{
  "cells": [
    {
      "cell_type": "code",
      "source": [
        "%%pyspark\r\n",
        "df = spark.read.load('abfss://files@datalake4awmfpe.dfs.core.windows.net/products/products.csv', format='csv'\r\n",
        ", header=True\r\n",
        ")\r\n",
        "display(df.limit(10))"
      ],
      "outputs": [
        {
          "output_type": "display_data",
          "data": {
            "application/vnd.livy.statement-meta+json": {
              "spark_pool": "spark4awmfpe",
              "statement_id": 2,
              "statement_ids": [
                2
              ],
              "state": "finished",
              "livy_statement_state": "available",
              "spark_jobs": null,
              "session_id": "0",
              "normalized_state": "finished",
              "queued_time": "2025-04-09T21:03:30.2982108Z",
              "session_start_time": "2025-04-09T21:03:30.3005431Z",
              "execution_start_time": "2025-04-09T21:07:40.2943652Z",
              "execution_finish_time": "2025-04-09T21:08:27.5842026Z",
              "parent_msg_id": "ee1b66e8-6aaf-40a4-845c-2717f44fa7c1"
            },
            "text/plain": "StatementMeta(spark4awmfpe, 0, 2, Finished, Available, Finished)"
          },
          "metadata": {}
        },
        {
          "output_type": "display_data",
          "data": {
            "application/vnd.synapse.widget-view+json": {
              "widget_id": "7b6095c7-ef2e-4b9d-aaec-b3c93531a727",
              "widget_type": "Synapse.DataFrame"
            },
            "text/plain": "SynapseWidget(Synapse.DataFrame, 7b6095c7-ef2e-4b9d-aaec-b3c93531a727)"
          },
          "metadata": {}
        }
      ],
      "execution_count": 1,
      "metadata": {
        "microsoft": {
          "language": "python"
        },
        "collapsed": false
      }
    },
    {
      "cell_type": "code",
      "source": [
        "delta_table_path = \"/delta/products-delta\"\r\n",
        "df.write.format(\"delta\").save(delta_table_path)"
      ],
      "outputs": [
        {
          "output_type": "display_data",
          "data": {
            "application/vnd.livy.statement-meta+json": {
              "spark_pool": "spark4awmfpe",
              "statement_id": 3,
              "statement_ids": [
                3
              ],
              "state": "finished",
              "livy_statement_state": "available",
              "spark_jobs": null,
              "session_id": "0",
              "normalized_state": "finished",
              "queued_time": "2025-04-09T21:09:42.6048415Z",
              "session_start_time": null,
              "execution_start_time": "2025-04-09T21:09:42.6072936Z",
              "execution_finish_time": "2025-04-09T21:09:57.8328321Z",
              "parent_msg_id": "782821d7-07b9-4529-9d2a-2ecd15af78f8"
            },
            "text/plain": "StatementMeta(spark4awmfpe, 0, 3, Finished, Available, Finished)"
          },
          "metadata": {}
        }
      ],
      "execution_count": 2,
      "metadata": {}
    },
    {
      "cell_type": "code",
      "source": [
        "from delta.tables import *\r\n",
        "from pyspark.sql.functions import *\r\n",
        "\r\n",
        "\r\n",
        "deltaTable = DeltaTable.forPath(spark, delta_table_path)\r\n",
        "\r\n",
        "\r\n",
        "deltaTable.update(\r\n",
        "    condition = \"ProductID == 771\",\r\n",
        "    set = { \"ListPrice\": \"ListPrice * 0.9\" })\r\n",
        "\r\n",
        "\r\n",
        "deltaTable.toDF().show(10)\r\n"
      ],
      "outputs": [
        {
          "output_type": "display_data",
          "data": {
            "application/vnd.livy.statement-meta+json": {
              "spark_pool": "spark4awmfpe",
              "statement_id": 4,
              "statement_ids": [
                4
              ],
              "state": "finished",
              "livy_statement_state": "available",
              "spark_jobs": null,
              "session_id": "0",
              "normalized_state": "finished",
              "queued_time": "2025-04-09T21:12:35.3194966Z",
              "session_start_time": null,
              "execution_start_time": "2025-04-09T21:12:35.3220086Z",
              "execution_finish_time": "2025-04-09T21:13:09.2957404Z",
              "parent_msg_id": "797cdc40-17be-4ba2-b6d2-48b1e689f066"
            },
            "text/plain": "StatementMeta(spark4awmfpe, 0, 4, Finished, Available, Finished)"
          },
          "metadata": {}
        },
        {
          "output_type": "stream",
          "name": "stdout",
          "text": [
            "+---------+--------------------+--------------+---------+\n|ProductID|         ProductName|      Category|ListPrice|\n+---------+--------------------+--------------+---------+\n|      771|Mountain-100 Silv...|Mountain Bikes| 3059.991|\n|      772|Mountain-100 Silv...|Mountain Bikes|3399.9900|\n|      773|Mountain-100 Silv...|Mountain Bikes|3399.9900|\n|      774|Mountain-100 Silv...|Mountain Bikes|3399.9900|\n|      775|Mountain-100 Blac...|Mountain Bikes|3374.9900|\n|      776|Mountain-100 Blac...|Mountain Bikes|3374.9900|\n|      777|Mountain-100 Blac...|Mountain Bikes|3374.9900|\n|      778|Mountain-100 Blac...|Mountain Bikes|3374.9900|\n|      779|Mountain-200 Silv...|Mountain Bikes|2319.9900|\n|      780|Mountain-200 Silv...|Mountain Bikes|2319.9900|\n+---------+--------------------+--------------+---------+\nonly showing top 10 rows\n\n"
          ]
        }
      ],
      "execution_count": 3,
      "metadata": {}
    },
    {
      "cell_type": "code",
      "source": [
        "new_df = spark.read.format(\"delta\").option(\"versionAsOf\", 0).load(delta_table_path)\r\n",
        "new_df.show(10)"
      ],
      "outputs": [
        {
          "output_type": "display_data",
          "data": {
            "application/vnd.livy.statement-meta+json": {
              "spark_pool": "spark4awmfpe",
              "statement_id": 6,
              "statement_ids": [
                6
              ],
              "state": "finished",
              "livy_statement_state": "available",
              "spark_jobs": null,
              "session_id": "0",
              "normalized_state": "finished",
              "queued_time": "2025-04-09T21:15:08.2111506Z",
              "session_start_time": null,
              "execution_start_time": "2025-04-09T21:15:08.2139415Z",
              "execution_finish_time": "2025-04-09T21:15:13.8694886Z",
              "parent_msg_id": "2e705828-3591-4531-9f54-88543f7f0fb6"
            },
            "text/plain": "StatementMeta(spark4awmfpe, 0, 6, Finished, Available, Finished)"
          },
          "metadata": {}
        },
        {
          "output_type": "stream",
          "name": "stdout",
          "text": [
            "+---------+--------------------+--------------+---------+\n|ProductID|         ProductName|      Category|ListPrice|\n+---------+--------------------+--------------+---------+\n|      771|Mountain-100 Silv...|Mountain Bikes|3399.9900|\n|      772|Mountain-100 Silv...|Mountain Bikes|3399.9900|\n|      773|Mountain-100 Silv...|Mountain Bikes|3399.9900|\n|      774|Mountain-100 Silv...|Mountain Bikes|3399.9900|\n|      775|Mountain-100 Blac...|Mountain Bikes|3374.9900|\n|      776|Mountain-100 Blac...|Mountain Bikes|3374.9900|\n|      777|Mountain-100 Blac...|Mountain Bikes|3374.9900|\n|      778|Mountain-100 Blac...|Mountain Bikes|3374.9900|\n|      779|Mountain-200 Silv...|Mountain Bikes|2319.9900|\n|      780|Mountain-200 Silv...|Mountain Bikes|2319.9900|\n+---------+--------------------+--------------+---------+\nonly showing top 10 rows\n\n"
          ]
        }
      ],
      "execution_count": 5,
      "metadata": {}
    },
    {
      "cell_type": "code",
      "source": [
        "deltaTable.history(10).show(20, False, True)"
      ],
      "outputs": [
        {
          "output_type": "display_data",
          "data": {
            "application/vnd.livy.statement-meta+json": {
              "spark_pool": "spark4awmfpe",
              "statement_id": 7,
              "statement_ids": [
                7
              ],
              "state": "finished",
              "livy_statement_state": "available",
              "spark_jobs": null,
              "session_id": "0",
              "normalized_state": "finished",
              "queued_time": "2025-04-09T21:16:08.683939Z",
              "session_start_time": null,
              "execution_start_time": "2025-04-09T21:16:08.6863578Z",
              "execution_finish_time": "2025-04-09T21:16:10.7998818Z",
              "parent_msg_id": "7afc567e-d2b8-4690-b109-15b976edb387"
            },
            "text/plain": "StatementMeta(spark4awmfpe, 0, 7, Finished, Available, Finished)"
          },
          "metadata": {}
        },
        {
          "output_type": "stream",
          "name": "stdout",
          "text": [
            "-RECORD 0----------------------------------------------------------------------------------------------------------------------------------------------------------------------------------------------------------------------------------------------------\n version             | 1                                                                                                                                                                                                                                     \n timestamp           | 2025-04-09 21:13:01.234                                                                                                                                                                                                               \n userId              | null                                                                                                                                                                                                                                  \n userName            | null                                                                                                                                                                                                                                  \n operation           | UPDATE                                                                                                                                                                                                                                \n operationParameters | {predicate -> [\"(cast(ProductID#174 as int) = 771)\"]}                                                                                                                                                                                 \n job                 | null                                                                                                                                                                                                                                  \n notebook            | null                                                                                                                                                                                                                                  \n clusterId           | null                                                                                                                                                                                                                                  \n readVersion         | 0                                                                                                                                                                                                                                     \n isolationLevel      | Serializable                                                                                                                                                                                                                          \n isBlindAppend       | false                                                                                                                                                                                                                                 \n operationMetrics    | {numRemovedFiles -> 1, numRemovedBytes -> 6233, numCopiedRows -> 294, numAddedChangeFiles -> 0, executionTimeMs -> 25283, scanTimeMs -> 23020, numAddedFiles -> 1, numUpdatedRows -> 1, numAddedBytes -> 6245, rewriteTimeMs -> 2251} \n userMetadata        | null                                                                                                                                                                                                                                  \n engineInfo          | Apache-Spark/3.4.3.5.3.20250325.1 Delta-Lake/2.4.0.22                                                                                                                                                                                 \n-RECORD 1----------------------------------------------------------------------------------------------------------------------------------------------------------------------------------------------------------------------------------------------------\n version             | 0                                                                                                                                                                                                                                     \n timestamp           | 2025-04-09 21:09:54.283                                                                                                                                                                                                               \n userId              | null                                                                                                                                                                                                                                  \n userName            | null                                                                                                                                                                                                                                  \n operation           | WRITE                                                                                                                                                                                                                                 \n operationParameters | {mode -> ErrorIfExists, partitionBy -> []}                                                                                                                                                                                            \n job                 | null                                                                                                                                                                                                                                  \n notebook            | null                                                                                                                                                                                                                                  \n clusterId           | null                                                                                                                                                                                                                                  \n readVersion         | null                                                                                                                                                                                                                                  \n isolationLevel      | Serializable                                                                                                                                                                                                                          \n isBlindAppend       | true                                                                                                                                                                                                                                  \n operationMetrics    | {numFiles -> 1, numOutputRows -> 295, numOutputBytes -> 6233}                                                                                                                                                                         \n userMetadata        | null                                                                                                                                                                                                                                  \n engineInfo          | Apache-Spark/3.4.3.5.3.20250325.1 Delta-Lake/2.4.0.22                                                                                                                                                                                 \n\n"
          ]
        }
      ],
      "execution_count": 6,
      "metadata": {}
    },
    {
      "cell_type": "code",
      "source": [
        "spark.sql(\"CREATE DATABASE AdventureWorks\")\r\n",
        "spark.sql(\"CREATE TABLE AdventureWorks.ProductsExternal USING DELTA LOCATION '{0}'\".format(delta_table_path))\r\n",
        "spark.sql(\"DESCRIBE EXTENDED AdventureWorks.ProductsExternal\").show(truncate=False)\r\n"
      ],
      "outputs": [
        {
          "output_type": "display_data",
          "data": {
            "application/vnd.livy.statement-meta+json": {
              "spark_pool": "spark4awmfpe",
              "statement_id": 8,
              "statement_ids": [
                8
              ],
              "state": "finished",
              "livy_statement_state": "available",
              "spark_jobs": null,
              "session_id": "0",
              "normalized_state": "finished",
              "queued_time": "2025-04-09T21:18:23.7079627Z",
              "session_start_time": null,
              "execution_start_time": "2025-04-09T21:18:23.7100485Z",
              "execution_finish_time": "2025-04-09T21:18:53.5169961Z",
              "parent_msg_id": "ccbcd505-3d6e-4fc4-9a26-b75d95c9d4b7"
            },
            "text/plain": "StatementMeta(spark4awmfpe, 0, 8, Finished, Available, Finished)"
          },
          "metadata": {}
        },
        {
          "output_type": "stream",
          "name": "stdout",
          "text": [
            "+----------------------------+-----------------------------------------------------------------------+-------+\n|col_name                    |data_type                                                              |comment|\n+----------------------------+-----------------------------------------------------------------------+-------+\n|ProductID                   |string                                                                 |null   |\n|ProductName                 |string                                                                 |null   |\n|Category                    |string                                                                 |null   |\n|ListPrice                   |string                                                                 |null   |\n|                            |                                                                       |       |\n|# Detailed Table Information|                                                                       |       |\n|Name                        |spark_catalog.adventureworks.productsexternal                          |       |\n|Type                        |EXTERNAL                                                               |       |\n|Location                    |abfss://files@datalake4awmfpe.dfs.core.windows.net/delta/products-delta|       |\n|Provider                    |delta                                                                  |       |\n|Owner                       |trusted-service-user                                                   |       |\n|Table Properties            |[delta.minReaderVersion=1,delta.minWriterVersion=2]                    |       |\n+----------------------------+-----------------------------------------------------------------------+-------+\n\n"
          ]
        }
      ],
      "execution_count": 7,
      "metadata": {}
    },
    {
      "cell_type": "code",
      "source": [
        "%%sql\r\n",
        "\r\n",
        "USE AdventureWorks;\r\n",
        "\r\n",
        "SELECT * FROM ProductsExternal;\r\n"
      ],
      "outputs": [
        {
          "output_type": "display_data",
          "data": {
            "application/vnd.livy.statement-meta+json": {
              "spark_pool": "spark4awmfpe",
              "statement_id": 10,
              "statement_ids": [
                9,
                10
              ],
              "state": "finished",
              "livy_statement_state": "available",
              "spark_jobs": null,
              "session_id": "0",
              "normalized_state": "finished",
              "queued_time": "2025-04-09T21:19:44.1620822Z",
              "session_start_time": null,
              "execution_start_time": "2025-04-09T21:19:44.1629559Z",
              "execution_finish_time": "2025-04-09T21:19:46.3275016Z",
              "parent_msg_id": "b2807098-ae02-430e-ba11-16f9e399e9cd"
            },
            "text/plain": "StatementMeta(spark4awmfpe, 0, 10, Finished, Available, Finished)"
          },
          "metadata": {}
        },
        {
          "output_type": "execute_result",
          "execution_count": 8,
          "data": {
            "application/vnd.synapse.sparksql-result+json": {
              "schema": {
                "type": "struct",
                "fields": []
              },
              "data": []
            },
            "text/plain": "<Spark SQL result set with 0 rows and 0 fields>"
          },
          "metadata": {}
        },
        {
          "output_type": "execute_result",
          "execution_count": 8,
          "data": {
            "application/vnd.synapse.sparksql-result+json": {
              "schema": {
                "type": "struct",
                "fields": [
                  {
                    "name": "ProductID",
                    "type": "string",
                    "nullable": true,
                    "metadata": {}
                  },
                  {
                    "name": "ProductName",
                    "type": "string",
                    "nullable": true,
                    "metadata": {}
                  },
                  {
                    "name": "Category",
                    "type": "string",
                    "nullable": true,
                    "metadata": {}
                  },
                  {
                    "name": "ListPrice",
                    "type": "string",
                    "nullable": true,
                    "metadata": {}
                  }
                ]
              },
              "data": [
                [
                  "771",
                  "Mountain-100 Silver, 38",
                  "Mountain Bikes",
                  "3059.991"
                ],
                [
                  "772",
                  "Mountain-100 Silver, 42",
                  "Mountain Bikes",
                  "3399.9900"
                ],
                [
                  "773",
                  "Mountain-100 Silver, 44",
                  "Mountain Bikes",
                  "3399.9900"
                ],
                [
                  "774",
                  "Mountain-100 Silver, 48",
                  "Mountain Bikes",
                  "3399.9900"
                ],
                [
                  "775",
                  "Mountain-100 Black, 38",
                  "Mountain Bikes",
                  "3374.9900"
                ],
                [
                  "776",
                  "Mountain-100 Black, 42",
                  "Mountain Bikes",
                  "3374.9900"
                ],
                [
                  "777",
                  "Mountain-100 Black, 44",
                  "Mountain Bikes",
                  "3374.9900"
                ],
                [
                  "778",
                  "Mountain-100 Black, 48",
                  "Mountain Bikes",
                  "3374.9900"
                ],
                [
                  "779",
                  "Mountain-200 Silver, 38",
                  "Mountain Bikes",
                  "2319.9900"
                ],
                [
                  "780",
                  "Mountain-200 Silver, 42",
                  "Mountain Bikes",
                  "2319.9900"
                ],
                [
                  "781",
                  "Mountain-200 Silver, 46",
                  "Mountain Bikes",
                  "2319.9900"
                ],
                [
                  "782",
                  "Mountain-200 Black, 38",
                  "Mountain Bikes",
                  "2294.9900"
                ],
                [
                  "783",
                  "Mountain-200 Black, 42",
                  "Mountain Bikes",
                  "2294.9900"
                ],
                [
                  "784",
                  "Mountain-200 Black, 46",
                  "Mountain Bikes",
                  "2294.9900"
                ],
                [
                  "785",
                  "Mountain-300 Black, 38",
                  "Mountain Bikes",
                  "1079.9900"
                ],
                [
                  "786",
                  "Mountain-300 Black, 40",
                  "Mountain Bikes",
                  "1079.9900"
                ],
                [
                  "787",
                  "Mountain-300 Black, 44",
                  "Mountain Bikes",
                  "1079.9900"
                ],
                [
                  "788",
                  "Mountain-300 Black, 48",
                  "Mountain Bikes",
                  "1079.9900"
                ],
                [
                  "980",
                  "Mountain-400-W Silver, 38",
                  "Mountain Bikes",
                  "769.4900"
                ],
                [
                  "981",
                  "Mountain-400-W Silver, 40",
                  "Mountain Bikes",
                  "769.4900"
                ],
                [
                  "982",
                  "Mountain-400-W Silver, 42",
                  "Mountain Bikes",
                  "769.4900"
                ],
                [
                  "983",
                  "Mountain-400-W Silver, 46",
                  "Mountain Bikes",
                  "769.4900"
                ],
                [
                  "984",
                  "Mountain-500 Silver, 40",
                  "Mountain Bikes",
                  "564.9900"
                ],
                [
                  "985",
                  "Mountain-500 Silver, 42",
                  "Mountain Bikes",
                  "564.9900"
                ],
                [
                  "986",
                  "Mountain-500 Silver, 44",
                  "Mountain Bikes",
                  "564.9900"
                ],
                [
                  "987",
                  "Mountain-500 Silver, 48",
                  "Mountain Bikes",
                  "564.9900"
                ],
                [
                  "988",
                  "Mountain-500 Silver, 52",
                  "Mountain Bikes",
                  "564.9900"
                ],
                [
                  "989",
                  "Mountain-500 Black, 40",
                  "Mountain Bikes",
                  "539.9900"
                ],
                [
                  "990",
                  "Mountain-500 Black, 42",
                  "Mountain Bikes",
                  "539.9900"
                ],
                [
                  "991",
                  "Mountain-500 Black, 44",
                  "Mountain Bikes",
                  "539.9900"
                ],
                [
                  "992",
                  "Mountain-500 Black, 48",
                  "Mountain Bikes",
                  "539.9900"
                ],
                [
                  "993",
                  "Mountain-500 Black, 52",
                  "Mountain Bikes",
                  "539.9900"
                ],
                [
                  "973",
                  "Road-350-W Yellow, 40",
                  "Road Bikes",
                  "1700.9900"
                ],
                [
                  "974",
                  "Road-350-W Yellow, 42",
                  "Road Bikes",
                  "1700.9900"
                ],
                [
                  "975",
                  "Road-350-W Yellow, 44",
                  "Road Bikes",
                  "1700.9900"
                ],
                [
                  "976",
                  "Road-350-W Yellow, 48",
                  "Road Bikes",
                  "1700.9900"
                ],
                [
                  "977",
                  "Road-750 Black, 58",
                  "Road Bikes",
                  "539.9900"
                ],
                [
                  "997",
                  "Road-750 Black, 44",
                  "Road Bikes",
                  "539.9900"
                ],
                [
                  "998",
                  "Road-750 Black, 48",
                  "Road Bikes",
                  "539.9900"
                ],
                [
                  "999",
                  "Road-750 Black, 52",
                  "Road Bikes",
                  "539.9900"
                ],
                [
                  "789",
                  "Road-250 Red, 44",
                  "Road Bikes",
                  "2443.3500"
                ],
                [
                  "790",
                  "Road-250 Red, 48",
                  "Road Bikes",
                  "2443.3500"
                ],
                [
                  "791",
                  "Road-250 Red, 52",
                  "Road Bikes",
                  "2443.3500"
                ],
                [
                  "792",
                  "Road-250 Red, 58",
                  "Road Bikes",
                  "2443.3500"
                ],
                [
                  "793",
                  "Road-250 Black, 44",
                  "Road Bikes",
                  "2443.3500"
                ],
                [
                  "794",
                  "Road-250 Black, 48",
                  "Road Bikes",
                  "2443.3500"
                ],
                [
                  "795",
                  "Road-250 Black, 52",
                  "Road Bikes",
                  "2443.3500"
                ],
                [
                  "796",
                  "Road-250 Black, 58",
                  "Road Bikes",
                  "2443.3500"
                ],
                [
                  "797",
                  "Road-550-W Yellow, 38",
                  "Road Bikes",
                  "1120.4900"
                ],
                [
                  "798",
                  "Road-550-W Yellow, 40",
                  "Road Bikes",
                  "1120.4900"
                ],
                [
                  "799",
                  "Road-550-W Yellow, 42",
                  "Road Bikes",
                  "1120.4900"
                ],
                [
                  "800",
                  "Road-550-W Yellow, 44",
                  "Road Bikes",
                  "1120.4900"
                ],
                [
                  "801",
                  "Road-550-W Yellow, 48",
                  "Road Bikes",
                  "1120.4900"
                ],
                [
                  "749",
                  "Road-150 Red, 62",
                  "Road Bikes",
                  "3578.2700"
                ],
                [
                  "750",
                  "Road-150 Red, 44",
                  "Road Bikes",
                  "3578.2700"
                ],
                [
                  "751",
                  "Road-150 Red, 48",
                  "Road Bikes",
                  "3578.2700"
                ],
                [
                  "752",
                  "Road-150 Red, 52",
                  "Road Bikes",
                  "3578.2700"
                ],
                [
                  "753",
                  "Road-150 Red, 56",
                  "Road Bikes",
                  "3578.2700"
                ],
                [
                  "754",
                  "Road-450 Red, 58",
                  "Road Bikes",
                  "1457.9900"
                ],
                [
                  "755",
                  "Road-450 Red, 60",
                  "Road Bikes",
                  "1457.9900"
                ],
                [
                  "756",
                  "Road-450 Red, 44",
                  "Road Bikes",
                  "1457.9900"
                ],
                [
                  "757",
                  "Road-450 Red, 48",
                  "Road Bikes",
                  "1457.9900"
                ],
                [
                  "758",
                  "Road-450 Red, 52",
                  "Road Bikes",
                  "1457.9900"
                ],
                [
                  "759",
                  "Road-650 Red, 58",
                  "Road Bikes",
                  "782.9900"
                ],
                [
                  "760",
                  "Road-650 Red, 60",
                  "Road Bikes",
                  "782.9900"
                ],
                [
                  "761",
                  "Road-650 Red, 62",
                  "Road Bikes",
                  "782.9900"
                ],
                [
                  "762",
                  "Road-650 Red, 44",
                  "Road Bikes",
                  "782.9900"
                ],
                [
                  "763",
                  "Road-650 Red, 48",
                  "Road Bikes",
                  "782.9900"
                ],
                [
                  "764",
                  "Road-650 Red, 52",
                  "Road Bikes",
                  "782.9900"
                ],
                [
                  "765",
                  "Road-650 Black, 58",
                  "Road Bikes",
                  "782.9900"
                ],
                [
                  "766",
                  "Road-650 Black, 60",
                  "Road Bikes",
                  "782.9900"
                ],
                [
                  "767",
                  "Road-650 Black, 62",
                  "Road Bikes",
                  "782.9900"
                ],
                [
                  "768",
                  "Road-650 Black, 44",
                  "Road Bikes",
                  "782.9900"
                ],
                [
                  "769",
                  "Road-650 Black, 48",
                  "Road Bikes",
                  "782.9900"
                ],
                [
                  "770",
                  "Road-650 Black, 52",
                  "Road Bikes",
                  "782.9900"
                ],
                [
                  "978",
                  "Touring-3000 Blue, 44",
                  "Touring Bikes",
                  "742.3500"
                ],
                [
                  "979",
                  "Touring-3000 Blue, 50",
                  "Touring Bikes",
                  "742.3500"
                ],
                [
                  "953",
                  "Touring-2000 Blue, 60",
                  "Touring Bikes",
                  "1214.8500"
                ],
                [
                  "954",
                  "Touring-1000 Yellow, 46",
                  "Touring Bikes",
                  "2384.0700"
                ],
                [
                  "955",
                  "Touring-1000 Yellow, 50",
                  "Touring Bikes",
                  "2384.0700"
                ],
                [
                  "956",
                  "Touring-1000 Yellow, 54",
                  "Touring Bikes",
                  "2384.0700"
                ],
                [
                  "957",
                  "Touring-1000 Yellow, 60",
                  "Touring Bikes",
                  "2384.0700"
                ],
                [
                  "958",
                  "Touring-3000 Blue, 54",
                  "Touring Bikes",
                  "742.3500"
                ],
                [
                  "959",
                  "Touring-3000 Blue, 58",
                  "Touring Bikes",
                  "742.3500"
                ],
                [
                  "960",
                  "Touring-3000 Blue, 62",
                  "Touring Bikes",
                  "742.3500"
                ],
                [
                  "961",
                  "Touring-3000 Yellow, 44",
                  "Touring Bikes",
                  "742.3500"
                ],
                [
                  "962",
                  "Touring-3000 Yellow, 50",
                  "Touring Bikes",
                  "742.3500"
                ],
                [
                  "963",
                  "Touring-3000 Yellow, 54",
                  "Touring Bikes",
                  "742.3500"
                ],
                [
                  "964",
                  "Touring-3000 Yellow, 58",
                  "Touring Bikes",
                  "742.3500"
                ],
                [
                  "965",
                  "Touring-3000 Yellow, 62",
                  "Touring Bikes",
                  "742.3500"
                ],
                [
                  "966",
                  "Touring-1000 Blue, 46",
                  "Touring Bikes",
                  "2384.0700"
                ],
                [
                  "967",
                  "Touring-1000 Blue, 50",
                  "Touring Bikes",
                  "2384.0700"
                ],
                [
                  "968",
                  "Touring-1000 Blue, 54",
                  "Touring Bikes",
                  "2384.0700"
                ],
                [
                  "969",
                  "Touring-1000 Blue, 60",
                  "Touring Bikes",
                  "2384.0700"
                ],
                [
                  "970",
                  "Touring-2000 Blue, 46",
                  "Touring Bikes",
                  "1214.8500"
                ],
                [
                  "971",
                  "Touring-2000 Blue, 50",
                  "Touring Bikes",
                  "1214.8500"
                ],
                [
                  "972",
                  "Touring-2000 Blue, 54",
                  "Touring Bikes",
                  "1214.8500"
                ],
                [
                  "946",
                  "LL Touring Handlebars",
                  "Handlebars",
                  "46.0900"
                ],
                [
                  "947",
                  "HL Touring Handlebars",
                  "Handlebars",
                  "91.5700"
                ],
                [
                  "808",
                  "LL Mountain Handlebars",
                  "Handlebars",
                  "44.5400"
                ],
                [
                  "809",
                  "ML Mountain Handlebars",
                  "Handlebars",
                  "61.9200"
                ],
                [
                  "810",
                  "HL Mountain Handlebars",
                  "Handlebars",
                  "120.2700"
                ],
                [
                  "811",
                  "LL Road Handlebars",
                  "Handlebars",
                  "44.5400"
                ],
                [
                  "812",
                  "ML Road Handlebars",
                  "Handlebars",
                  "61.9200"
                ],
                [
                  "813",
                  "HL Road Handlebars",
                  "Handlebars",
                  "120.2700"
                ],
                [
                  "994",
                  "LL Bottom Bracket",
                  "Bottom Brackets",
                  "53.9900"
                ],
                [
                  "995",
                  "ML Bottom Bracket",
                  "Bottom Brackets",
                  "101.2400"
                ],
                [
                  "996",
                  "HL Bottom Bracket",
                  "Bottom Brackets",
                  "121.4900"
                ],
                [
                  "948",
                  "Front Brakes",
                  "Brakes",
                  "106.5000"
                ],
                [
                  "907",
                  "Rear Brakes",
                  "Brakes",
                  "106.5000"
                ],
                [
                  "952",
                  "Chain",
                  "Chains",
                  "20.2400"
                ],
                [
                  "949",
                  "LL Crankset",
                  "Cranksets",
                  "175.4900"
                ],
                [
                  "950",
                  "ML Crankset",
                  "Cranksets",
                  "256.4900"
                ],
                [
                  "951",
                  "HL Crankset",
                  "Cranksets",
                  "404.9900"
                ],
                [
                  "945",
                  "Front Derailleur",
                  "Derailleurs",
                  "91.4900"
                ],
                [
                  "894",
                  "Rear Derailleur",
                  "Derailleurs",
                  "121.4600"
                ],
                [
                  "802",
                  "LL Fork",
                  "Forks",
                  "148.2200"
                ],
                [
                  "803",
                  "ML Fork",
                  "Forks",
                  "175.4900"
                ],
                [
                  "804",
                  "HL Fork",
                  "Forks",
                  "229.4900"
                ],
                [
                  "805",
                  "LL Headset",
                  "Headsets",
                  "34.2000"
                ],
                [
                  "806",
                  "ML Headset",
                  "Headsets",
                  "102.2900"
                ],
                [
                  "807",
                  "HL Headset",
                  "Headsets",
                  "124.7300"
                ],
                [
                  "739",
                  "HL Mountain Frame - Silver, 42",
                  "Mountain Frames",
                  "1364.5000"
                ],
                [
                  "740",
                  "HL Mountain Frame - Silver, 44",
                  "Mountain Frames",
                  "1364.5000"
                ],
                [
                  "741",
                  "HL Mountain Frame - Silver, 48",
                  "Mountain Frames",
                  "1364.5000"
                ],
                [
                  "742",
                  "HL Mountain Frame - Silver, 46",
                  "Mountain Frames",
                  "1364.5000"
                ],
                [
                  "743",
                  "HL Mountain Frame - Black, 42",
                  "Mountain Frames",
                  "1349.6000"
                ],
                [
                  "744",
                  "HL Mountain Frame - Black, 44",
                  "Mountain Frames",
                  "1349.6000"
                ],
                [
                  "745",
                  "HL Mountain Frame - Black, 48",
                  "Mountain Frames",
                  "1349.6000"
                ],
                [
                  "746",
                  "HL Mountain Frame - Black, 46",
                  "Mountain Frames",
                  "1349.6000"
                ],
                [
                  "747",
                  "HL Mountain Frame - Black, 38",
                  "Mountain Frames",
                  "1349.6000"
                ],
                [
                  "748",
                  "HL Mountain Frame - Silver, 38",
                  "Mountain Frames",
                  "1364.5000"
                ],
                [
                  "814",
                  "ML Mountain Frame - Black, 38",
                  "Mountain Frames",
                  "348.7600"
                ],
                [
                  "830",
                  "ML Mountain Frame - Black, 40",
                  "Mountain Frames",
                  "348.7600"
                ],
                [
                  "831",
                  "ML Mountain Frame - Black, 44",
                  "Mountain Frames",
                  "348.7600"
                ],
                [
                  "832",
                  "ML Mountain Frame - Black, 48",
                  "Mountain Frames",
                  "348.7600"
                ],
                [
                  "924",
                  "LL Mountain Frame - Black, 42",
                  "Mountain Frames",
                  "249.7900"
                ],
                [
                  "925",
                  "LL Mountain Frame - Black, 44",
                  "Mountain Frames",
                  "249.7900"
                ],
                [
                  "926",
                  "LL Mountain Frame - Black, 48",
                  "Mountain Frames",
                  "249.7900"
                ],
                [
                  "927",
                  "LL Mountain Frame - Black, 52",
                  "Mountain Frames",
                  "249.7900"
                ],
                [
                  "917",
                  "LL Mountain Frame - Silver, 42",
                  "Mountain Frames",
                  "264.0500"
                ],
                [
                  "918",
                  "LL Mountain Frame - Silver, 44",
                  "Mountain Frames",
                  "264.0500"
                ],
                [
                  "919",
                  "LL Mountain Frame - Silver, 48",
                  "Mountain Frames",
                  "264.0500"
                ],
                [
                  "920",
                  "LL Mountain Frame - Silver, 52",
                  "Mountain Frames",
                  "264.0500"
                ],
                [
                  "904",
                  "ML Mountain Frame-W - Silver, 40",
                  "Mountain Frames",
                  "364.0900"
                ],
                [
                  "905",
                  "ML Mountain Frame-W - Silver, 42",
                  "Mountain Frames",
                  "364.0900"
                ],
                [
                  "906",
                  "ML Mountain Frame-W - Silver, 46",
                  "Mountain Frames",
                  "364.0900"
                ],
                [
                  "942",
                  "ML Mountain Frame-W - Silver, 38",
                  "Mountain Frames",
                  "364.0900"
                ],
                [
                  "943",
                  "LL Mountain Frame - Black, 40",
                  "Mountain Frames",
                  "249.7900"
                ],
                [
                  "944",
                  "LL Mountain Frame - Silver, 40",
                  "Mountain Frames",
                  "264.0500"
                ],
                [
                  "935",
                  "LL Mountain Pedal",
                  "Pedals",
                  "40.4900"
                ],
                [
                  "936",
                  "ML Mountain Pedal",
                  "Pedals",
                  "62.0900"
                ],
                [
                  "937",
                  "HL Mountain Pedal",
                  "Pedals",
                  "80.9900"
                ],
                [
                  "938",
                  "LL Road Pedal",
                  "Pedals",
                  "40.4900"
                ],
                [
                  "939",
                  "ML Road Pedal",
                  "Pedals",
                  "62.0900"
                ],
                [
                  "940",
                  "HL Road Pedal",
                  "Pedals",
                  "80.9900"
                ],
                [
                  "941",
                  "Touring Pedal",
                  "Pedals",
                  "80.9900"
                ],
                [
                  "833",
                  "ML Road Frame-W - Yellow, 40",
                  "Road Frames",
                  "594.8300"
                ],
                [
                  "834",
                  "ML Road Frame-W - Yellow, 42",
                  "Road Frames",
                  "594.8300"
                ],
                [
                  "835",
                  "ML Road Frame-W - Yellow, 44",
                  "Road Frames",
                  "594.8300"
                ],
                [
                  "836",
                  "ML Road Frame-W - Yellow, 48",
                  "Road Frames",
                  "594.8300"
                ],
                [
                  "837",
                  "HL Road Frame - Black, 62",
                  "Road Frames",
                  "1431.5000"
                ],
                [
                  "838",
                  "HL Road Frame - Black, 44",
                  "Road Frames",
                  "1431.5000"
                ],
                [
                  "839",
                  "HL Road Frame - Black, 48",
                  "Road Frames",
                  "1431.5000"
                ],
                [
                  "840",
                  "HL Road Frame - Black, 52",
                  "Road Frames",
                  "1431.5000"
                ],
                [
                  "822",
                  "ML Road Frame-W - Yellow, 38",
                  "Road Frames",
                  "594.8300"
                ],
                [
                  "680",
                  "HL Road Frame - Black, 58",
                  "Road Frames",
                  "1431.5000"
                ],
                [
                  "706",
                  "HL Road Frame - Red, 58",
                  "Road Frames",
                  "1431.5000"
                ],
                [
                  "717",
                  "HL Road Frame - Red, 62",
                  "Road Frames",
                  "1431.5000"
                ],
                [
                  "718",
                  "HL Road Frame - Red, 44",
                  "Road Frames",
                  "1431.5000"
                ],
                [
                  "719",
                  "HL Road Frame - Red, 48",
                  "Road Frames",
                  "1431.5000"
                ],
                [
                  "720",
                  "HL Road Frame - Red, 52",
                  "Road Frames",
                  "1431.5000"
                ],
                [
                  "721",
                  "HL Road Frame - Red, 56",
                  "Road Frames",
                  "1431.5000"
                ],
                [
                  "722",
                  "LL Road Frame - Black, 58",
                  "Road Frames",
                  "337.2200"
                ],
                [
                  "723",
                  "LL Road Frame - Black, 60",
                  "Road Frames",
                  "337.2200"
                ],
                [
                  "724",
                  "LL Road Frame - Black, 62",
                  "Road Frames",
                  "337.2200"
                ],
                [
                  "725",
                  "LL Road Frame - Red, 44",
                  "Road Frames",
                  "337.2200"
                ],
                [
                  "726",
                  "LL Road Frame - Red, 48",
                  "Road Frames",
                  "337.2200"
                ],
                [
                  "727",
                  "LL Road Frame - Red, 52",
                  "Road Frames",
                  "337.2200"
                ],
                [
                  "728",
                  "LL Road Frame - Red, 58",
                  "Road Frames",
                  "337.2200"
                ],
                [
                  "729",
                  "LL Road Frame - Red, 60",
                  "Road Frames",
                  "337.2200"
                ],
                [
                  "730",
                  "LL Road Frame - Red, 62",
                  "Road Frames",
                  "337.2200"
                ],
                [
                  "731",
                  "ML Road Frame - Red, 44",
                  "Road Frames",
                  "594.8300"
                ],
                [
                  "732",
                  "ML Road Frame - Red, 48",
                  "Road Frames",
                  "594.8300"
                ],
                [
                  "733",
                  "ML Road Frame - Red, 52",
                  "Road Frames",
                  "594.8300"
                ],
                [
                  "734",
                  "ML Road Frame - Red, 58",
                  "Road Frames",
                  "594.8300"
                ],
                [
                  "735",
                  "ML Road Frame - Red, 60",
                  "Road Frames",
                  "594.8300"
                ],
                [
                  "736",
                  "LL Road Frame - Black, 44",
                  "Road Frames",
                  "337.2200"
                ],
                [
                  "737",
                  "LL Road Frame - Black, 48",
                  "Road Frames",
                  "337.2200"
                ],
                [
                  "738",
                  "LL Road Frame - Black, 52",
                  "Road Frames",
                  "337.2200"
                ],
                [
                  "908",
                  "LL Mountain Seat/Saddle",
                  "Saddles",
                  "27.1200"
                ],
                [
                  "909",
                  "ML Mountain Seat/Saddle",
                  "Saddles",
                  "39.1400"
                ],
                [
                  "910",
                  "HL Mountain Seat/Saddle",
                  "Saddles",
                  "52.6400"
                ],
                [
                  "911",
                  "LL Road Seat/Saddle",
                  "Saddles",
                  "27.1200"
                ],
                [
                  "912",
                  "ML Road Seat/Saddle",
                  "Saddles",
                  "39.1400"
                ],
                [
                  "913",
                  "HL Road Seat/Saddle",
                  "Saddles",
                  "52.6400"
                ],
                [
                  "914",
                  "LL Touring Seat/Saddle",
                  "Saddles",
                  "27.1200"
                ],
                [
                  "915",
                  "ML Touring Seat/Saddle",
                  "Saddles",
                  "39.1400"
                ],
                [
                  "916",
                  "HL Touring Seat/Saddle",
                  "Saddles",
                  "52.6400"
                ],
                [
                  "895",
                  "LL Touring Frame - Blue, 50",
                  "Touring Frames",
                  "333.4200"
                ],
                [
                  "896",
                  "LL Touring Frame - Blue, 54",
                  "Touring Frames",
                  "333.4200"
                ],
                [
                  "897",
                  "LL Touring Frame - Blue, 58",
                  "Touring Frames",
                  "333.4200"
                ],
                [
                  "898",
                  "LL Touring Frame - Blue, 62",
                  "Touring Frames",
                  "333.4200"
                ],
                [
                  "899",
                  "LL Touring Frame - Yellow, 44",
                  "Touring Frames",
                  "333.4200"
                ],
                [
                  "900",
                  "LL Touring Frame - Yellow, 50",
                  "Touring Frames",
                  "333.4200"
                ],
                [
                  "901",
                  "LL Touring Frame - Yellow, 54",
                  "Touring Frames",
                  "333.4200"
                ],
                [
                  "902",
                  "LL Touring Frame - Yellow, 58",
                  "Touring Frames",
                  "333.4200"
                ],
                [
                  "903",
                  "LL Touring Frame - Blue, 44",
                  "Touring Frames",
                  "333.4200"
                ],
                [
                  "885",
                  "HL Touring Frame - Yellow, 60",
                  "Touring Frames",
                  "1003.9100"
                ],
                [
                  "886",
                  "LL Touring Frame - Yellow, 62",
                  "Touring Frames",
                  "333.4200"
                ],
                [
                  "887",
                  "HL Touring Frame - Yellow, 46",
                  "Touring Frames",
                  "1003.9100"
                ],
                [
                  "888",
                  "HL Touring Frame - Yellow, 50",
                  "Touring Frames",
                  "1003.9100"
                ],
                [
                  "889",
                  "HL Touring Frame - Yellow, 54",
                  "Touring Frames",
                  "1003.9100"
                ],
                [
                  "890",
                  "HL Touring Frame - Blue, 46",
                  "Touring Frames",
                  "1003.9100"
                ],
                [
                  "891",
                  "HL Touring Frame - Blue, 50",
                  "Touring Frames",
                  "1003.9100"
                ],
                [
                  "892",
                  "HL Touring Frame - Blue, 54",
                  "Touring Frames",
                  "1003.9100"
                ],
                [
                  "893",
                  "HL Touring Frame - Blue, 60",
                  "Touring Frames",
                  "1003.9100"
                ],
                [
                  "823",
                  "LL Mountain Rear Wheel",
                  "Wheels",
                  "87.7450"
                ],
                [
                  "824",
                  "ML Mountain Rear Wheel",
                  "Wheels",
                  "236.0250"
                ],
                [
                  "825",
                  "HL Mountain Rear Wheel",
                  "Wheels",
                  "327.2150"
                ],
                [
                  "826",
                  "LL Road Rear Wheel",
                  "Wheels",
                  "112.5650"
                ],
                [
                  "827",
                  "ML Road Rear Wheel",
                  "Wheels",
                  "275.3850"
                ],
                [
                  "828",
                  "HL Road Rear Wheel",
                  "Wheels",
                  "357.0600"
                ],
                [
                  "829",
                  "Touring Rear Wheel",
                  "Wheels",
                  "245.0100"
                ],
                [
                  "815",
                  "LL Mountain Front Wheel",
                  "Wheels",
                  "60.7450"
                ],
                [
                  "816",
                  "ML Mountain Front Wheel",
                  "Wheels",
                  "209.0250"
                ],
                [
                  "817",
                  "HL Mountain Front Wheel",
                  "Wheels",
                  "300.2150"
                ],
                [
                  "818",
                  "LL Road Front Wheel",
                  "Wheels",
                  "85.5650"
                ],
                [
                  "819",
                  "ML Road Front Wheel",
                  "Wheels",
                  "248.3850"
                ],
                [
                  "820",
                  "HL Road Front Wheel",
                  "Wheels",
                  "330.0600"
                ],
                [
                  "821",
                  "Touring Front Wheel",
                  "Wheels",
                  "218.0100"
                ],
                [
                  "855",
                  "Men's Bib-Shorts, S",
                  "Bib-Shorts",
                  "89.9900"
                ],
                [
                  "856",
                  "Men's Bib-Shorts, M",
                  "Bib-Shorts",
                  "89.9900"
                ],
                [
                  "857",
                  "Men's Bib-Shorts, L",
                  "Bib-Shorts",
                  "89.9900"
                ],
                [
                  "712",
                  "AWC Logo Cap",
                  "Caps",
                  "8.9900"
                ],
                [
                  "858",
                  "Half-Finger Gloves, S",
                  "Gloves",
                  "24.4900"
                ],
                [
                  "859",
                  "Half-Finger Gloves, M",
                  "Gloves",
                  "24.4900"
                ],
                [
                  "860",
                  "Half-Finger Gloves, L",
                  "Gloves",
                  "24.4900"
                ],
                [
                  "861",
                  "Full-Finger Gloves, S",
                  "Gloves",
                  "37.9900"
                ],
                [
                  "862",
                  "Full-Finger Gloves, M",
                  "Gloves",
                  "37.9900"
                ],
                [
                  "863",
                  "Full-Finger Gloves, L",
                  "Gloves",
                  "37.9900"
                ],
                [
                  "713",
                  "Long-Sleeve Logo Jersey, S",
                  "Jerseys",
                  "49.9900"
                ],
                [
                  "714",
                  "Long-Sleeve Logo Jersey, M",
                  "Jerseys",
                  "49.9900"
                ],
                [
                  "715",
                  "Long-Sleeve Logo Jersey, L",
                  "Jerseys",
                  "49.9900"
                ],
                [
                  "716",
                  "Long-Sleeve Logo Jersey, XL",
                  "Jerseys",
                  "49.9900"
                ],
                [
                  "881",
                  "Short-Sleeve Classic Jersey, S",
                  "Jerseys",
                  "53.9900"
                ],
                [
                  "882",
                  "Short-Sleeve Classic Jersey, M",
                  "Jerseys",
                  "53.9900"
                ],
                [
                  "883",
                  "Short-Sleeve Classic Jersey, L",
                  "Jerseys",
                  "53.9900"
                ],
                [
                  "884",
                  "Short-Sleeve Classic Jersey, XL",
                  "Jerseys",
                  "53.9900"
                ],
                [
                  "867",
                  "Women's Mountain Shorts, S",
                  "Shorts",
                  "69.9900"
                ],
                [
                  "868",
                  "Women's Mountain Shorts, M",
                  "Shorts",
                  "69.9900"
                ],
                [
                  "869",
                  "Women's Mountain Shorts, L",
                  "Shorts",
                  "69.9900"
                ],
                [
                  "841",
                  "Men's Sports Shorts, S",
                  "Shorts",
                  "59.9900"
                ],
                [
                  "849",
                  "Men's Sports Shorts, M",
                  "Shorts",
                  "59.9900"
                ],
                [
                  "850",
                  "Men's Sports Shorts, L",
                  "Shorts",
                  "59.9900"
                ],
                [
                  "851",
                  "Men's Sports Shorts, XL",
                  "Shorts",
                  "59.9900"
                ],
                [
                  "709",
                  "Mountain Bike Socks, M",
                  "Socks",
                  "9.5000"
                ],
                [
                  "710",
                  "Mountain Bike Socks, L",
                  "Socks",
                  "9.5000"
                ],
                [
                  "874",
                  "Racing Socks, M",
                  "Socks",
                  "8.9900"
                ],
                [
                  "875",
                  "Racing Socks, L",
                  "Socks",
                  "8.9900"
                ],
                [
                  "852",
                  "Women's Tights, S",
                  "Tights",
                  "74.9900"
                ],
                [
                  "853",
                  "Women's Tights, M",
                  "Tights",
                  "74.9900"
                ],
                [
                  "854",
                  "Women's Tights, L",
                  "Tights",
                  "74.9900"
                ],
                [
                  "864",
                  "Classic Vest, S",
                  "Vests",
                  "63.5000"
                ],
                [
                  "865",
                  "Classic Vest, M",
                  "Vests",
                  "63.5000"
                ],
                [
                  "866",
                  "Classic Vest, L",
                  "Vests",
                  "63.5000"
                ],
                [
                  "876",
                  "Hitch Rack - 4-Bike",
                  "Bike Racks",
                  "120.0000"
                ],
                [
                  "879",
                  "All-Purpose Bike Stand",
                  "Bike Stands",
                  "159.0000"
                ],
                [
                  "870",
                  "Water Bottle - 30 oz.",
                  "Bottles and Cages",
                  "4.9900"
                ],
                [
                  "871",
                  "Mountain Bottle Cage",
                  "Bottles and Cages",
                  "9.9900"
                ],
                [
                  "872",
                  "Road Bottle Cage",
                  "Bottles and Cages",
                  "8.9900"
                ],
                [
                  "877",
                  "Bike Wash - Dissolver",
                  "Cleaners",
                  "7.9500"
                ],
                [
                  "878",
                  "Fender Set - Mountain",
                  "Fenders",
                  "21.9800"
                ],
                [
                  "711",
                  "Sport-100 Helmet, Blue",
                  "Helmets",
                  "34.9900"
                ],
                [
                  "707",
                  "Sport-100 Helmet, Red",
                  "Helmets",
                  "34.9900"
                ],
                [
                  "708",
                  "Sport-100 Helmet, Black",
                  "Helmets",
                  "34.9900"
                ],
                [
                  "880",
                  "Hydration Pack - 70 oz.",
                  "Hydration Packs",
                  "54.9900"
                ],
                [
                  "846",
                  "Taillights - Battery-Powered",
                  "Lights",
                  "13.9900"
                ],
                [
                  "847",
                  "Headlights - Dual-Beam",
                  "Lights",
                  "34.9900"
                ],
                [
                  "848",
                  "Headlights - Weatherproof",
                  "Lights",
                  "44.9900"
                ],
                [
                  "843",
                  "Cable Lock",
                  "Locks",
                  "25.0000"
                ],
                [
                  "842",
                  "Touring-Panniers, Large",
                  "Panniers",
                  "125.0000"
                ],
                [
                  "844",
                  "Minipump",
                  "Pumps",
                  "19.9900"
                ],
                [
                  "845",
                  "Mountain Pump",
                  "Pumps",
                  "24.9900"
                ],
                [
                  "873",
                  "Patch Kit/8 Patches",
                  "Tires and Tubes",
                  "2.2900"
                ],
                [
                  "921",
                  "Mountain Tire Tube",
                  "Tires and Tubes",
                  "4.9900"
                ],
                [
                  "922",
                  "Road Tire Tube",
                  "Tires and Tubes",
                  "3.9900"
                ],
                [
                  "923",
                  "Touring Tire Tube",
                  "Tires and Tubes",
                  "4.9900"
                ],
                [
                  "928",
                  "LL Mountain Tire",
                  "Tires and Tubes",
                  "24.9900"
                ],
                [
                  "929",
                  "ML Mountain Tire",
                  "Tires and Tubes",
                  "29.9900"
                ],
                [
                  "930",
                  "HL Mountain Tire",
                  "Tires and Tubes",
                  "35.0000"
                ],
                [
                  "931",
                  "LL Road Tire",
                  "Tires and Tubes",
                  "21.4900"
                ],
                [
                  "932",
                  "ML Road Tire",
                  "Tires and Tubes",
                  "24.9900"
                ],
                [
                  "933",
                  "HL Road Tire",
                  "Tires and Tubes",
                  "32.6000"
                ],
                [
                  "934",
                  "Touring Tire",
                  "Tires and Tubes",
                  "28.9900"
                ]
              ]
            },
            "text/plain": "<Spark SQL result set with 295 rows and 4 fields>"
          },
          "metadata": {}
        }
      ],
      "execution_count": 8,
      "metadata": {
        "microsoft": {
          "language": "sparksql"
        },
        "collapsed": false
      }
    },
    {
      "cell_type": "code",
      "source": [
        "df.write.format(\"delta\").saveAsTable(\"AdventureWorks.ProductsManaged\")\r\n",
        "spark.sql(\"DESCRIBE EXTENDED AdventureWorks.ProductsManaged\").show(truncate=False)\r\n"
      ],
      "outputs": [
        {
          "output_type": "display_data",
          "data": {
            "application/vnd.livy.statement-meta+json": {
              "spark_pool": "spark4awmfpe",
              "statement_id": 11,
              "statement_ids": [
                11
              ],
              "state": "finished",
              "livy_statement_state": "available",
              "spark_jobs": null,
              "session_id": "0",
              "normalized_state": "finished",
              "queued_time": "2025-04-09T21:22:18.8065421Z",
              "session_start_time": null,
              "execution_start_time": "2025-04-09T21:22:18.8088383Z",
              "execution_finish_time": "2025-04-09T21:22:23.1373309Z",
              "parent_msg_id": "f48fb333-f761-41e0-a01f-e256b80869e8"
            },
            "text/plain": "StatementMeta(spark4awmfpe, 0, 11, Finished, Available, Finished)"
          },
          "metadata": {}
        },
        {
          "output_type": "stream",
          "name": "stdout",
          "text": [
            "+----------------------------+--------------------------------------------------------------------------------------------------------------------------------+-------+\n|col_name                    |data_type                                                                                                                       |comment|\n+----------------------------+--------------------------------------------------------------------------------------------------------------------------------+-------+\n|ProductID                   |string                                                                                                                          |null   |\n|ProductName                 |string                                                                                                                          |null   |\n|Category                    |string                                                                                                                          |null   |\n|ListPrice                   |string                                                                                                                          |null   |\n|                            |                                                                                                                                |       |\n|# Detailed Table Information|                                                                                                                                |       |\n|Name                        |spark_catalog.adventureworks.productsmanaged                                                                                    |       |\n|Type                        |MANAGED                                                                                                                         |       |\n|Location                    |abfss://files@datalake4awmfpe.dfs.core.windows.net/synapse/workspaces/synapse4awmfpe/warehouse/adventureworks.db/productsmanaged|       |\n|Provider                    |delta                                                                                                                           |       |\n|Owner                       |trusted-service-user                                                                                                            |       |\n|Table Properties            |[delta.minReaderVersion=1,delta.minWriterVersion=2]                                                                             |       |\n+----------------------------+--------------------------------------------------------------------------------------------------------------------------------+-------+\n\n"
          ]
        }
      ],
      "execution_count": 9,
      "metadata": {}
    },
    {
      "cell_type": "code",
      "source": [
        "%%sql\r\n",
        "\r\n",
        "USE AdventureWorks;\r\n",
        "\r\n",
        "SELECT * FROM ProductsManaged;\r\n"
      ],
      "outputs": [
        {
          "output_type": "display_data",
          "data": {
            "application/vnd.livy.statement-meta+json": {
              "spark_pool": "spark4awmfpe",
              "statement_id": 13,
              "statement_ids": [
                12,
                13
              ],
              "state": "finished",
              "livy_statement_state": "available",
              "spark_jobs": null,
              "session_id": "0",
              "normalized_state": "finished",
              "queued_time": "2025-04-09T21:23:44.2861382Z",
              "session_start_time": null,
              "execution_start_time": "2025-04-09T21:23:44.2869736Z",
              "execution_finish_time": "2025-04-09T21:23:50.0795378Z",
              "parent_msg_id": "fe3bdaac-6804-4e0f-976a-80ecf002ea75"
            },
            "text/plain": "StatementMeta(spark4awmfpe, 0, 13, Finished, Available, Finished)"
          },
          "metadata": {}
        },
        {
          "output_type": "execute_result",
          "execution_count": 10,
          "data": {
            "application/vnd.synapse.sparksql-result+json": {
              "schema": {
                "type": "struct",
                "fields": []
              },
              "data": []
            },
            "text/plain": "<Spark SQL result set with 0 rows and 0 fields>"
          },
          "metadata": {}
        },
        {
          "output_type": "execute_result",
          "execution_count": 10,
          "data": {
            "application/vnd.synapse.sparksql-result+json": {
              "schema": {
                "type": "struct",
                "fields": [
                  {
                    "name": "ProductID",
                    "type": "string",
                    "nullable": true,
                    "metadata": {}
                  },
                  {
                    "name": "ProductName",
                    "type": "string",
                    "nullable": true,
                    "metadata": {}
                  },
                  {
                    "name": "Category",
                    "type": "string",
                    "nullable": true,
                    "metadata": {}
                  },
                  {
                    "name": "ListPrice",
                    "type": "string",
                    "nullable": true,
                    "metadata": {}
                  }
                ]
              },
              "data": [
                [
                  "771",
                  "Mountain-100 Silver, 38",
                  "Mountain Bikes",
                  "3399.9900"
                ],
                [
                  "772",
                  "Mountain-100 Silver, 42",
                  "Mountain Bikes",
                  "3399.9900"
                ],
                [
                  "773",
                  "Mountain-100 Silver, 44",
                  "Mountain Bikes",
                  "3399.9900"
                ],
                [
                  "774",
                  "Mountain-100 Silver, 48",
                  "Mountain Bikes",
                  "3399.9900"
                ],
                [
                  "775",
                  "Mountain-100 Black, 38",
                  "Mountain Bikes",
                  "3374.9900"
                ],
                [
                  "776",
                  "Mountain-100 Black, 42",
                  "Mountain Bikes",
                  "3374.9900"
                ],
                [
                  "777",
                  "Mountain-100 Black, 44",
                  "Mountain Bikes",
                  "3374.9900"
                ],
                [
                  "778",
                  "Mountain-100 Black, 48",
                  "Mountain Bikes",
                  "3374.9900"
                ],
                [
                  "779",
                  "Mountain-200 Silver, 38",
                  "Mountain Bikes",
                  "2319.9900"
                ],
                [
                  "780",
                  "Mountain-200 Silver, 42",
                  "Mountain Bikes",
                  "2319.9900"
                ],
                [
                  "781",
                  "Mountain-200 Silver, 46",
                  "Mountain Bikes",
                  "2319.9900"
                ],
                [
                  "782",
                  "Mountain-200 Black, 38",
                  "Mountain Bikes",
                  "2294.9900"
                ],
                [
                  "783",
                  "Mountain-200 Black, 42",
                  "Mountain Bikes",
                  "2294.9900"
                ],
                [
                  "784",
                  "Mountain-200 Black, 46",
                  "Mountain Bikes",
                  "2294.9900"
                ],
                [
                  "785",
                  "Mountain-300 Black, 38",
                  "Mountain Bikes",
                  "1079.9900"
                ],
                [
                  "786",
                  "Mountain-300 Black, 40",
                  "Mountain Bikes",
                  "1079.9900"
                ],
                [
                  "787",
                  "Mountain-300 Black, 44",
                  "Mountain Bikes",
                  "1079.9900"
                ],
                [
                  "788",
                  "Mountain-300 Black, 48",
                  "Mountain Bikes",
                  "1079.9900"
                ],
                [
                  "980",
                  "Mountain-400-W Silver, 38",
                  "Mountain Bikes",
                  "769.4900"
                ],
                [
                  "981",
                  "Mountain-400-W Silver, 40",
                  "Mountain Bikes",
                  "769.4900"
                ],
                [
                  "982",
                  "Mountain-400-W Silver, 42",
                  "Mountain Bikes",
                  "769.4900"
                ],
                [
                  "983",
                  "Mountain-400-W Silver, 46",
                  "Mountain Bikes",
                  "769.4900"
                ],
                [
                  "984",
                  "Mountain-500 Silver, 40",
                  "Mountain Bikes",
                  "564.9900"
                ],
                [
                  "985",
                  "Mountain-500 Silver, 42",
                  "Mountain Bikes",
                  "564.9900"
                ],
                [
                  "986",
                  "Mountain-500 Silver, 44",
                  "Mountain Bikes",
                  "564.9900"
                ],
                [
                  "987",
                  "Mountain-500 Silver, 48",
                  "Mountain Bikes",
                  "564.9900"
                ],
                [
                  "988",
                  "Mountain-500 Silver, 52",
                  "Mountain Bikes",
                  "564.9900"
                ],
                [
                  "989",
                  "Mountain-500 Black, 40",
                  "Mountain Bikes",
                  "539.9900"
                ],
                [
                  "990",
                  "Mountain-500 Black, 42",
                  "Mountain Bikes",
                  "539.9900"
                ],
                [
                  "991",
                  "Mountain-500 Black, 44",
                  "Mountain Bikes",
                  "539.9900"
                ],
                [
                  "992",
                  "Mountain-500 Black, 48",
                  "Mountain Bikes",
                  "539.9900"
                ],
                [
                  "993",
                  "Mountain-500 Black, 52",
                  "Mountain Bikes",
                  "539.9900"
                ],
                [
                  "973",
                  "Road-350-W Yellow, 40",
                  "Road Bikes",
                  "1700.9900"
                ],
                [
                  "974",
                  "Road-350-W Yellow, 42",
                  "Road Bikes",
                  "1700.9900"
                ],
                [
                  "975",
                  "Road-350-W Yellow, 44",
                  "Road Bikes",
                  "1700.9900"
                ],
                [
                  "976",
                  "Road-350-W Yellow, 48",
                  "Road Bikes",
                  "1700.9900"
                ],
                [
                  "977",
                  "Road-750 Black, 58",
                  "Road Bikes",
                  "539.9900"
                ],
                [
                  "997",
                  "Road-750 Black, 44",
                  "Road Bikes",
                  "539.9900"
                ],
                [
                  "998",
                  "Road-750 Black, 48",
                  "Road Bikes",
                  "539.9900"
                ],
                [
                  "999",
                  "Road-750 Black, 52",
                  "Road Bikes",
                  "539.9900"
                ],
                [
                  "789",
                  "Road-250 Red, 44",
                  "Road Bikes",
                  "2443.3500"
                ],
                [
                  "790",
                  "Road-250 Red, 48",
                  "Road Bikes",
                  "2443.3500"
                ],
                [
                  "791",
                  "Road-250 Red, 52",
                  "Road Bikes",
                  "2443.3500"
                ],
                [
                  "792",
                  "Road-250 Red, 58",
                  "Road Bikes",
                  "2443.3500"
                ],
                [
                  "793",
                  "Road-250 Black, 44",
                  "Road Bikes",
                  "2443.3500"
                ],
                [
                  "794",
                  "Road-250 Black, 48",
                  "Road Bikes",
                  "2443.3500"
                ],
                [
                  "795",
                  "Road-250 Black, 52",
                  "Road Bikes",
                  "2443.3500"
                ],
                [
                  "796",
                  "Road-250 Black, 58",
                  "Road Bikes",
                  "2443.3500"
                ],
                [
                  "797",
                  "Road-550-W Yellow, 38",
                  "Road Bikes",
                  "1120.4900"
                ],
                [
                  "798",
                  "Road-550-W Yellow, 40",
                  "Road Bikes",
                  "1120.4900"
                ],
                [
                  "799",
                  "Road-550-W Yellow, 42",
                  "Road Bikes",
                  "1120.4900"
                ],
                [
                  "800",
                  "Road-550-W Yellow, 44",
                  "Road Bikes",
                  "1120.4900"
                ],
                [
                  "801",
                  "Road-550-W Yellow, 48",
                  "Road Bikes",
                  "1120.4900"
                ],
                [
                  "749",
                  "Road-150 Red, 62",
                  "Road Bikes",
                  "3578.2700"
                ],
                [
                  "750",
                  "Road-150 Red, 44",
                  "Road Bikes",
                  "3578.2700"
                ],
                [
                  "751",
                  "Road-150 Red, 48",
                  "Road Bikes",
                  "3578.2700"
                ],
                [
                  "752",
                  "Road-150 Red, 52",
                  "Road Bikes",
                  "3578.2700"
                ],
                [
                  "753",
                  "Road-150 Red, 56",
                  "Road Bikes",
                  "3578.2700"
                ],
                [
                  "754",
                  "Road-450 Red, 58",
                  "Road Bikes",
                  "1457.9900"
                ],
                [
                  "755",
                  "Road-450 Red, 60",
                  "Road Bikes",
                  "1457.9900"
                ],
                [
                  "756",
                  "Road-450 Red, 44",
                  "Road Bikes",
                  "1457.9900"
                ],
                [
                  "757",
                  "Road-450 Red, 48",
                  "Road Bikes",
                  "1457.9900"
                ],
                [
                  "758",
                  "Road-450 Red, 52",
                  "Road Bikes",
                  "1457.9900"
                ],
                [
                  "759",
                  "Road-650 Red, 58",
                  "Road Bikes",
                  "782.9900"
                ],
                [
                  "760",
                  "Road-650 Red, 60",
                  "Road Bikes",
                  "782.9900"
                ],
                [
                  "761",
                  "Road-650 Red, 62",
                  "Road Bikes",
                  "782.9900"
                ],
                [
                  "762",
                  "Road-650 Red, 44",
                  "Road Bikes",
                  "782.9900"
                ],
                [
                  "763",
                  "Road-650 Red, 48",
                  "Road Bikes",
                  "782.9900"
                ],
                [
                  "764",
                  "Road-650 Red, 52",
                  "Road Bikes",
                  "782.9900"
                ],
                [
                  "765",
                  "Road-650 Black, 58",
                  "Road Bikes",
                  "782.9900"
                ],
                [
                  "766",
                  "Road-650 Black, 60",
                  "Road Bikes",
                  "782.9900"
                ],
                [
                  "767",
                  "Road-650 Black, 62",
                  "Road Bikes",
                  "782.9900"
                ],
                [
                  "768",
                  "Road-650 Black, 44",
                  "Road Bikes",
                  "782.9900"
                ],
                [
                  "769",
                  "Road-650 Black, 48",
                  "Road Bikes",
                  "782.9900"
                ],
                [
                  "770",
                  "Road-650 Black, 52",
                  "Road Bikes",
                  "782.9900"
                ],
                [
                  "978",
                  "Touring-3000 Blue, 44",
                  "Touring Bikes",
                  "742.3500"
                ],
                [
                  "979",
                  "Touring-3000 Blue, 50",
                  "Touring Bikes",
                  "742.3500"
                ],
                [
                  "953",
                  "Touring-2000 Blue, 60",
                  "Touring Bikes",
                  "1214.8500"
                ],
                [
                  "954",
                  "Touring-1000 Yellow, 46",
                  "Touring Bikes",
                  "2384.0700"
                ],
                [
                  "955",
                  "Touring-1000 Yellow, 50",
                  "Touring Bikes",
                  "2384.0700"
                ],
                [
                  "956",
                  "Touring-1000 Yellow, 54",
                  "Touring Bikes",
                  "2384.0700"
                ],
                [
                  "957",
                  "Touring-1000 Yellow, 60",
                  "Touring Bikes",
                  "2384.0700"
                ],
                [
                  "958",
                  "Touring-3000 Blue, 54",
                  "Touring Bikes",
                  "742.3500"
                ],
                [
                  "959",
                  "Touring-3000 Blue, 58",
                  "Touring Bikes",
                  "742.3500"
                ],
                [
                  "960",
                  "Touring-3000 Blue, 62",
                  "Touring Bikes",
                  "742.3500"
                ],
                [
                  "961",
                  "Touring-3000 Yellow, 44",
                  "Touring Bikes",
                  "742.3500"
                ],
                [
                  "962",
                  "Touring-3000 Yellow, 50",
                  "Touring Bikes",
                  "742.3500"
                ],
                [
                  "963",
                  "Touring-3000 Yellow, 54",
                  "Touring Bikes",
                  "742.3500"
                ],
                [
                  "964",
                  "Touring-3000 Yellow, 58",
                  "Touring Bikes",
                  "742.3500"
                ],
                [
                  "965",
                  "Touring-3000 Yellow, 62",
                  "Touring Bikes",
                  "742.3500"
                ],
                [
                  "966",
                  "Touring-1000 Blue, 46",
                  "Touring Bikes",
                  "2384.0700"
                ],
                [
                  "967",
                  "Touring-1000 Blue, 50",
                  "Touring Bikes",
                  "2384.0700"
                ],
                [
                  "968",
                  "Touring-1000 Blue, 54",
                  "Touring Bikes",
                  "2384.0700"
                ],
                [
                  "969",
                  "Touring-1000 Blue, 60",
                  "Touring Bikes",
                  "2384.0700"
                ],
                [
                  "970",
                  "Touring-2000 Blue, 46",
                  "Touring Bikes",
                  "1214.8500"
                ],
                [
                  "971",
                  "Touring-2000 Blue, 50",
                  "Touring Bikes",
                  "1214.8500"
                ],
                [
                  "972",
                  "Touring-2000 Blue, 54",
                  "Touring Bikes",
                  "1214.8500"
                ],
                [
                  "946",
                  "LL Touring Handlebars",
                  "Handlebars",
                  "46.0900"
                ],
                [
                  "947",
                  "HL Touring Handlebars",
                  "Handlebars",
                  "91.5700"
                ],
                [
                  "808",
                  "LL Mountain Handlebars",
                  "Handlebars",
                  "44.5400"
                ],
                [
                  "809",
                  "ML Mountain Handlebars",
                  "Handlebars",
                  "61.9200"
                ],
                [
                  "810",
                  "HL Mountain Handlebars",
                  "Handlebars",
                  "120.2700"
                ],
                [
                  "811",
                  "LL Road Handlebars",
                  "Handlebars",
                  "44.5400"
                ],
                [
                  "812",
                  "ML Road Handlebars",
                  "Handlebars",
                  "61.9200"
                ],
                [
                  "813",
                  "HL Road Handlebars",
                  "Handlebars",
                  "120.2700"
                ],
                [
                  "994",
                  "LL Bottom Bracket",
                  "Bottom Brackets",
                  "53.9900"
                ],
                [
                  "995",
                  "ML Bottom Bracket",
                  "Bottom Brackets",
                  "101.2400"
                ],
                [
                  "996",
                  "HL Bottom Bracket",
                  "Bottom Brackets",
                  "121.4900"
                ],
                [
                  "948",
                  "Front Brakes",
                  "Brakes",
                  "106.5000"
                ],
                [
                  "907",
                  "Rear Brakes",
                  "Brakes",
                  "106.5000"
                ],
                [
                  "952",
                  "Chain",
                  "Chains",
                  "20.2400"
                ],
                [
                  "949",
                  "LL Crankset",
                  "Cranksets",
                  "175.4900"
                ],
                [
                  "950",
                  "ML Crankset",
                  "Cranksets",
                  "256.4900"
                ],
                [
                  "951",
                  "HL Crankset",
                  "Cranksets",
                  "404.9900"
                ],
                [
                  "945",
                  "Front Derailleur",
                  "Derailleurs",
                  "91.4900"
                ],
                [
                  "894",
                  "Rear Derailleur",
                  "Derailleurs",
                  "121.4600"
                ],
                [
                  "802",
                  "LL Fork",
                  "Forks",
                  "148.2200"
                ],
                [
                  "803",
                  "ML Fork",
                  "Forks",
                  "175.4900"
                ],
                [
                  "804",
                  "HL Fork",
                  "Forks",
                  "229.4900"
                ],
                [
                  "805",
                  "LL Headset",
                  "Headsets",
                  "34.2000"
                ],
                [
                  "806",
                  "ML Headset",
                  "Headsets",
                  "102.2900"
                ],
                [
                  "807",
                  "HL Headset",
                  "Headsets",
                  "124.7300"
                ],
                [
                  "739",
                  "HL Mountain Frame - Silver, 42",
                  "Mountain Frames",
                  "1364.5000"
                ],
                [
                  "740",
                  "HL Mountain Frame - Silver, 44",
                  "Mountain Frames",
                  "1364.5000"
                ],
                [
                  "741",
                  "HL Mountain Frame - Silver, 48",
                  "Mountain Frames",
                  "1364.5000"
                ],
                [
                  "742",
                  "HL Mountain Frame - Silver, 46",
                  "Mountain Frames",
                  "1364.5000"
                ],
                [
                  "743",
                  "HL Mountain Frame - Black, 42",
                  "Mountain Frames",
                  "1349.6000"
                ],
                [
                  "744",
                  "HL Mountain Frame - Black, 44",
                  "Mountain Frames",
                  "1349.6000"
                ],
                [
                  "745",
                  "HL Mountain Frame - Black, 48",
                  "Mountain Frames",
                  "1349.6000"
                ],
                [
                  "746",
                  "HL Mountain Frame - Black, 46",
                  "Mountain Frames",
                  "1349.6000"
                ],
                [
                  "747",
                  "HL Mountain Frame - Black, 38",
                  "Mountain Frames",
                  "1349.6000"
                ],
                [
                  "748",
                  "HL Mountain Frame - Silver, 38",
                  "Mountain Frames",
                  "1364.5000"
                ],
                [
                  "814",
                  "ML Mountain Frame - Black, 38",
                  "Mountain Frames",
                  "348.7600"
                ],
                [
                  "830",
                  "ML Mountain Frame - Black, 40",
                  "Mountain Frames",
                  "348.7600"
                ],
                [
                  "831",
                  "ML Mountain Frame - Black, 44",
                  "Mountain Frames",
                  "348.7600"
                ],
                [
                  "832",
                  "ML Mountain Frame - Black, 48",
                  "Mountain Frames",
                  "348.7600"
                ],
                [
                  "924",
                  "LL Mountain Frame - Black, 42",
                  "Mountain Frames",
                  "249.7900"
                ],
                [
                  "925",
                  "LL Mountain Frame - Black, 44",
                  "Mountain Frames",
                  "249.7900"
                ],
                [
                  "926",
                  "LL Mountain Frame - Black, 48",
                  "Mountain Frames",
                  "249.7900"
                ],
                [
                  "927",
                  "LL Mountain Frame - Black, 52",
                  "Mountain Frames",
                  "249.7900"
                ],
                [
                  "917",
                  "LL Mountain Frame - Silver, 42",
                  "Mountain Frames",
                  "264.0500"
                ],
                [
                  "918",
                  "LL Mountain Frame - Silver, 44",
                  "Mountain Frames",
                  "264.0500"
                ],
                [
                  "919",
                  "LL Mountain Frame - Silver, 48",
                  "Mountain Frames",
                  "264.0500"
                ],
                [
                  "920",
                  "LL Mountain Frame - Silver, 52",
                  "Mountain Frames",
                  "264.0500"
                ],
                [
                  "904",
                  "ML Mountain Frame-W - Silver, 40",
                  "Mountain Frames",
                  "364.0900"
                ],
                [
                  "905",
                  "ML Mountain Frame-W - Silver, 42",
                  "Mountain Frames",
                  "364.0900"
                ],
                [
                  "906",
                  "ML Mountain Frame-W - Silver, 46",
                  "Mountain Frames",
                  "364.0900"
                ],
                [
                  "942",
                  "ML Mountain Frame-W - Silver, 38",
                  "Mountain Frames",
                  "364.0900"
                ],
                [
                  "943",
                  "LL Mountain Frame - Black, 40",
                  "Mountain Frames",
                  "249.7900"
                ],
                [
                  "944",
                  "LL Mountain Frame - Silver, 40",
                  "Mountain Frames",
                  "264.0500"
                ],
                [
                  "935",
                  "LL Mountain Pedal",
                  "Pedals",
                  "40.4900"
                ],
                [
                  "936",
                  "ML Mountain Pedal",
                  "Pedals",
                  "62.0900"
                ],
                [
                  "937",
                  "HL Mountain Pedal",
                  "Pedals",
                  "80.9900"
                ],
                [
                  "938",
                  "LL Road Pedal",
                  "Pedals",
                  "40.4900"
                ],
                [
                  "939",
                  "ML Road Pedal",
                  "Pedals",
                  "62.0900"
                ],
                [
                  "940",
                  "HL Road Pedal",
                  "Pedals",
                  "80.9900"
                ],
                [
                  "941",
                  "Touring Pedal",
                  "Pedals",
                  "80.9900"
                ],
                [
                  "833",
                  "ML Road Frame-W - Yellow, 40",
                  "Road Frames",
                  "594.8300"
                ],
                [
                  "834",
                  "ML Road Frame-W - Yellow, 42",
                  "Road Frames",
                  "594.8300"
                ],
                [
                  "835",
                  "ML Road Frame-W - Yellow, 44",
                  "Road Frames",
                  "594.8300"
                ],
                [
                  "836",
                  "ML Road Frame-W - Yellow, 48",
                  "Road Frames",
                  "594.8300"
                ],
                [
                  "837",
                  "HL Road Frame - Black, 62",
                  "Road Frames",
                  "1431.5000"
                ],
                [
                  "838",
                  "HL Road Frame - Black, 44",
                  "Road Frames",
                  "1431.5000"
                ],
                [
                  "839",
                  "HL Road Frame - Black, 48",
                  "Road Frames",
                  "1431.5000"
                ],
                [
                  "840",
                  "HL Road Frame - Black, 52",
                  "Road Frames",
                  "1431.5000"
                ],
                [
                  "822",
                  "ML Road Frame-W - Yellow, 38",
                  "Road Frames",
                  "594.8300"
                ],
                [
                  "680",
                  "HL Road Frame - Black, 58",
                  "Road Frames",
                  "1431.5000"
                ],
                [
                  "706",
                  "HL Road Frame - Red, 58",
                  "Road Frames",
                  "1431.5000"
                ],
                [
                  "717",
                  "HL Road Frame - Red, 62",
                  "Road Frames",
                  "1431.5000"
                ],
                [
                  "718",
                  "HL Road Frame - Red, 44",
                  "Road Frames",
                  "1431.5000"
                ],
                [
                  "719",
                  "HL Road Frame - Red, 48",
                  "Road Frames",
                  "1431.5000"
                ],
                [
                  "720",
                  "HL Road Frame - Red, 52",
                  "Road Frames",
                  "1431.5000"
                ],
                [
                  "721",
                  "HL Road Frame - Red, 56",
                  "Road Frames",
                  "1431.5000"
                ],
                [
                  "722",
                  "LL Road Frame - Black, 58",
                  "Road Frames",
                  "337.2200"
                ],
                [
                  "723",
                  "LL Road Frame - Black, 60",
                  "Road Frames",
                  "337.2200"
                ],
                [
                  "724",
                  "LL Road Frame - Black, 62",
                  "Road Frames",
                  "337.2200"
                ],
                [
                  "725",
                  "LL Road Frame - Red, 44",
                  "Road Frames",
                  "337.2200"
                ],
                [
                  "726",
                  "LL Road Frame - Red, 48",
                  "Road Frames",
                  "337.2200"
                ],
                [
                  "727",
                  "LL Road Frame - Red, 52",
                  "Road Frames",
                  "337.2200"
                ],
                [
                  "728",
                  "LL Road Frame - Red, 58",
                  "Road Frames",
                  "337.2200"
                ],
                [
                  "729",
                  "LL Road Frame - Red, 60",
                  "Road Frames",
                  "337.2200"
                ],
                [
                  "730",
                  "LL Road Frame - Red, 62",
                  "Road Frames",
                  "337.2200"
                ],
                [
                  "731",
                  "ML Road Frame - Red, 44",
                  "Road Frames",
                  "594.8300"
                ],
                [
                  "732",
                  "ML Road Frame - Red, 48",
                  "Road Frames",
                  "594.8300"
                ],
                [
                  "733",
                  "ML Road Frame - Red, 52",
                  "Road Frames",
                  "594.8300"
                ],
                [
                  "734",
                  "ML Road Frame - Red, 58",
                  "Road Frames",
                  "594.8300"
                ],
                [
                  "735",
                  "ML Road Frame - Red, 60",
                  "Road Frames",
                  "594.8300"
                ],
                [
                  "736",
                  "LL Road Frame - Black, 44",
                  "Road Frames",
                  "337.2200"
                ],
                [
                  "737",
                  "LL Road Frame - Black, 48",
                  "Road Frames",
                  "337.2200"
                ],
                [
                  "738",
                  "LL Road Frame - Black, 52",
                  "Road Frames",
                  "337.2200"
                ],
                [
                  "908",
                  "LL Mountain Seat/Saddle",
                  "Saddles",
                  "27.1200"
                ],
                [
                  "909",
                  "ML Mountain Seat/Saddle",
                  "Saddles",
                  "39.1400"
                ],
                [
                  "910",
                  "HL Mountain Seat/Saddle",
                  "Saddles",
                  "52.6400"
                ],
                [
                  "911",
                  "LL Road Seat/Saddle",
                  "Saddles",
                  "27.1200"
                ],
                [
                  "912",
                  "ML Road Seat/Saddle",
                  "Saddles",
                  "39.1400"
                ],
                [
                  "913",
                  "HL Road Seat/Saddle",
                  "Saddles",
                  "52.6400"
                ],
                [
                  "914",
                  "LL Touring Seat/Saddle",
                  "Saddles",
                  "27.1200"
                ],
                [
                  "915",
                  "ML Touring Seat/Saddle",
                  "Saddles",
                  "39.1400"
                ],
                [
                  "916",
                  "HL Touring Seat/Saddle",
                  "Saddles",
                  "52.6400"
                ],
                [
                  "895",
                  "LL Touring Frame - Blue, 50",
                  "Touring Frames",
                  "333.4200"
                ],
                [
                  "896",
                  "LL Touring Frame - Blue, 54",
                  "Touring Frames",
                  "333.4200"
                ],
                [
                  "897",
                  "LL Touring Frame - Blue, 58",
                  "Touring Frames",
                  "333.4200"
                ],
                [
                  "898",
                  "LL Touring Frame - Blue, 62",
                  "Touring Frames",
                  "333.4200"
                ],
                [
                  "899",
                  "LL Touring Frame - Yellow, 44",
                  "Touring Frames",
                  "333.4200"
                ],
                [
                  "900",
                  "LL Touring Frame - Yellow, 50",
                  "Touring Frames",
                  "333.4200"
                ],
                [
                  "901",
                  "LL Touring Frame - Yellow, 54",
                  "Touring Frames",
                  "333.4200"
                ],
                [
                  "902",
                  "LL Touring Frame - Yellow, 58",
                  "Touring Frames",
                  "333.4200"
                ],
                [
                  "903",
                  "LL Touring Frame - Blue, 44",
                  "Touring Frames",
                  "333.4200"
                ],
                [
                  "885",
                  "HL Touring Frame - Yellow, 60",
                  "Touring Frames",
                  "1003.9100"
                ],
                [
                  "886",
                  "LL Touring Frame - Yellow, 62",
                  "Touring Frames",
                  "333.4200"
                ],
                [
                  "887",
                  "HL Touring Frame - Yellow, 46",
                  "Touring Frames",
                  "1003.9100"
                ],
                [
                  "888",
                  "HL Touring Frame - Yellow, 50",
                  "Touring Frames",
                  "1003.9100"
                ],
                [
                  "889",
                  "HL Touring Frame - Yellow, 54",
                  "Touring Frames",
                  "1003.9100"
                ],
                [
                  "890",
                  "HL Touring Frame - Blue, 46",
                  "Touring Frames",
                  "1003.9100"
                ],
                [
                  "891",
                  "HL Touring Frame - Blue, 50",
                  "Touring Frames",
                  "1003.9100"
                ],
                [
                  "892",
                  "HL Touring Frame - Blue, 54",
                  "Touring Frames",
                  "1003.9100"
                ],
                [
                  "893",
                  "HL Touring Frame - Blue, 60",
                  "Touring Frames",
                  "1003.9100"
                ],
                [
                  "823",
                  "LL Mountain Rear Wheel",
                  "Wheels",
                  "87.7450"
                ],
                [
                  "824",
                  "ML Mountain Rear Wheel",
                  "Wheels",
                  "236.0250"
                ],
                [
                  "825",
                  "HL Mountain Rear Wheel",
                  "Wheels",
                  "327.2150"
                ],
                [
                  "826",
                  "LL Road Rear Wheel",
                  "Wheels",
                  "112.5650"
                ],
                [
                  "827",
                  "ML Road Rear Wheel",
                  "Wheels",
                  "275.3850"
                ],
                [
                  "828",
                  "HL Road Rear Wheel",
                  "Wheels",
                  "357.0600"
                ],
                [
                  "829",
                  "Touring Rear Wheel",
                  "Wheels",
                  "245.0100"
                ],
                [
                  "815",
                  "LL Mountain Front Wheel",
                  "Wheels",
                  "60.7450"
                ],
                [
                  "816",
                  "ML Mountain Front Wheel",
                  "Wheels",
                  "209.0250"
                ],
                [
                  "817",
                  "HL Mountain Front Wheel",
                  "Wheels",
                  "300.2150"
                ],
                [
                  "818",
                  "LL Road Front Wheel",
                  "Wheels",
                  "85.5650"
                ],
                [
                  "819",
                  "ML Road Front Wheel",
                  "Wheels",
                  "248.3850"
                ],
                [
                  "820",
                  "HL Road Front Wheel",
                  "Wheels",
                  "330.0600"
                ],
                [
                  "821",
                  "Touring Front Wheel",
                  "Wheels",
                  "218.0100"
                ],
                [
                  "855",
                  "Men's Bib-Shorts, S",
                  "Bib-Shorts",
                  "89.9900"
                ],
                [
                  "856",
                  "Men's Bib-Shorts, M",
                  "Bib-Shorts",
                  "89.9900"
                ],
                [
                  "857",
                  "Men's Bib-Shorts, L",
                  "Bib-Shorts",
                  "89.9900"
                ],
                [
                  "712",
                  "AWC Logo Cap",
                  "Caps",
                  "8.9900"
                ],
                [
                  "858",
                  "Half-Finger Gloves, S",
                  "Gloves",
                  "24.4900"
                ],
                [
                  "859",
                  "Half-Finger Gloves, M",
                  "Gloves",
                  "24.4900"
                ],
                [
                  "860",
                  "Half-Finger Gloves, L",
                  "Gloves",
                  "24.4900"
                ],
                [
                  "861",
                  "Full-Finger Gloves, S",
                  "Gloves",
                  "37.9900"
                ],
                [
                  "862",
                  "Full-Finger Gloves, M",
                  "Gloves",
                  "37.9900"
                ],
                [
                  "863",
                  "Full-Finger Gloves, L",
                  "Gloves",
                  "37.9900"
                ],
                [
                  "713",
                  "Long-Sleeve Logo Jersey, S",
                  "Jerseys",
                  "49.9900"
                ],
                [
                  "714",
                  "Long-Sleeve Logo Jersey, M",
                  "Jerseys",
                  "49.9900"
                ],
                [
                  "715",
                  "Long-Sleeve Logo Jersey, L",
                  "Jerseys",
                  "49.9900"
                ],
                [
                  "716",
                  "Long-Sleeve Logo Jersey, XL",
                  "Jerseys",
                  "49.9900"
                ],
                [
                  "881",
                  "Short-Sleeve Classic Jersey, S",
                  "Jerseys",
                  "53.9900"
                ],
                [
                  "882",
                  "Short-Sleeve Classic Jersey, M",
                  "Jerseys",
                  "53.9900"
                ],
                [
                  "883",
                  "Short-Sleeve Classic Jersey, L",
                  "Jerseys",
                  "53.9900"
                ],
                [
                  "884",
                  "Short-Sleeve Classic Jersey, XL",
                  "Jerseys",
                  "53.9900"
                ],
                [
                  "867",
                  "Women's Mountain Shorts, S",
                  "Shorts",
                  "69.9900"
                ],
                [
                  "868",
                  "Women's Mountain Shorts, M",
                  "Shorts",
                  "69.9900"
                ],
                [
                  "869",
                  "Women's Mountain Shorts, L",
                  "Shorts",
                  "69.9900"
                ],
                [
                  "841",
                  "Men's Sports Shorts, S",
                  "Shorts",
                  "59.9900"
                ],
                [
                  "849",
                  "Men's Sports Shorts, M",
                  "Shorts",
                  "59.9900"
                ],
                [
                  "850",
                  "Men's Sports Shorts, L",
                  "Shorts",
                  "59.9900"
                ],
                [
                  "851",
                  "Men's Sports Shorts, XL",
                  "Shorts",
                  "59.9900"
                ],
                [
                  "709",
                  "Mountain Bike Socks, M",
                  "Socks",
                  "9.5000"
                ],
                [
                  "710",
                  "Mountain Bike Socks, L",
                  "Socks",
                  "9.5000"
                ],
                [
                  "874",
                  "Racing Socks, M",
                  "Socks",
                  "8.9900"
                ],
                [
                  "875",
                  "Racing Socks, L",
                  "Socks",
                  "8.9900"
                ],
                [
                  "852",
                  "Women's Tights, S",
                  "Tights",
                  "74.9900"
                ],
                [
                  "853",
                  "Women's Tights, M",
                  "Tights",
                  "74.9900"
                ],
                [
                  "854",
                  "Women's Tights, L",
                  "Tights",
                  "74.9900"
                ],
                [
                  "864",
                  "Classic Vest, S",
                  "Vests",
                  "63.5000"
                ],
                [
                  "865",
                  "Classic Vest, M",
                  "Vests",
                  "63.5000"
                ],
                [
                  "866",
                  "Classic Vest, L",
                  "Vests",
                  "63.5000"
                ],
                [
                  "876",
                  "Hitch Rack - 4-Bike",
                  "Bike Racks",
                  "120.0000"
                ],
                [
                  "879",
                  "All-Purpose Bike Stand",
                  "Bike Stands",
                  "159.0000"
                ],
                [
                  "870",
                  "Water Bottle - 30 oz.",
                  "Bottles and Cages",
                  "4.9900"
                ],
                [
                  "871",
                  "Mountain Bottle Cage",
                  "Bottles and Cages",
                  "9.9900"
                ],
                [
                  "872",
                  "Road Bottle Cage",
                  "Bottles and Cages",
                  "8.9900"
                ],
                [
                  "877",
                  "Bike Wash - Dissolver",
                  "Cleaners",
                  "7.9500"
                ],
                [
                  "878",
                  "Fender Set - Mountain",
                  "Fenders",
                  "21.9800"
                ],
                [
                  "711",
                  "Sport-100 Helmet, Blue",
                  "Helmets",
                  "34.9900"
                ],
                [
                  "707",
                  "Sport-100 Helmet, Red",
                  "Helmets",
                  "34.9900"
                ],
                [
                  "708",
                  "Sport-100 Helmet, Black",
                  "Helmets",
                  "34.9900"
                ],
                [
                  "880",
                  "Hydration Pack - 70 oz.",
                  "Hydration Packs",
                  "54.9900"
                ],
                [
                  "846",
                  "Taillights - Battery-Powered",
                  "Lights",
                  "13.9900"
                ],
                [
                  "847",
                  "Headlights - Dual-Beam",
                  "Lights",
                  "34.9900"
                ],
                [
                  "848",
                  "Headlights - Weatherproof",
                  "Lights",
                  "44.9900"
                ],
                [
                  "843",
                  "Cable Lock",
                  "Locks",
                  "25.0000"
                ],
                [
                  "842",
                  "Touring-Panniers, Large",
                  "Panniers",
                  "125.0000"
                ],
                [
                  "844",
                  "Minipump",
                  "Pumps",
                  "19.9900"
                ],
                [
                  "845",
                  "Mountain Pump",
                  "Pumps",
                  "24.9900"
                ],
                [
                  "873",
                  "Patch Kit/8 Patches",
                  "Tires and Tubes",
                  "2.2900"
                ],
                [
                  "921",
                  "Mountain Tire Tube",
                  "Tires and Tubes",
                  "4.9900"
                ],
                [
                  "922",
                  "Road Tire Tube",
                  "Tires and Tubes",
                  "3.9900"
                ],
                [
                  "923",
                  "Touring Tire Tube",
                  "Tires and Tubes",
                  "4.9900"
                ],
                [
                  "928",
                  "LL Mountain Tire",
                  "Tires and Tubes",
                  "24.9900"
                ],
                [
                  "929",
                  "ML Mountain Tire",
                  "Tires and Tubes",
                  "29.9900"
                ],
                [
                  "930",
                  "HL Mountain Tire",
                  "Tires and Tubes",
                  "35.0000"
                ],
                [
                  "931",
                  "LL Road Tire",
                  "Tires and Tubes",
                  "21.4900"
                ],
                [
                  "932",
                  "ML Road Tire",
                  "Tires and Tubes",
                  "24.9900"
                ],
                [
                  "933",
                  "HL Road Tire",
                  "Tires and Tubes",
                  "32.6000"
                ],
                [
                  "934",
                  "Touring Tire",
                  "Tires and Tubes",
                  "28.9900"
                ]
              ]
            },
            "text/plain": "<Spark SQL result set with 295 rows and 4 fields>"
          },
          "metadata": {}
        }
      ],
      "execution_count": 10,
      "metadata": {
        "microsoft": {
          "language": "sparksql"
        },
        "collapsed": false
      }
    },
    {
      "cell_type": "code",
      "source": [
        "%%sql\r\n",
        "\r\n",
        "USE AdventureWorks;\r\n",
        "\r\n",
        "DROP TABLE IF EXISTS ProductsExternal;\r\n",
        "DROP TABLE IF EXISTS ProductsManaged;\r\n"
      ],
      "outputs": [
        {
          "output_type": "display_data",
          "data": {
            "application/vnd.livy.statement-meta+json": {
              "spark_pool": "spark4awmfpe",
              "statement_id": 18,
              "statement_ids": [
                16,
                17,
                18
              ],
              "state": "finished",
              "livy_statement_state": "available",
              "spark_jobs": null,
              "session_id": "0",
              "normalized_state": "finished",
              "queued_time": "2025-04-09T21:25:59.563433Z",
              "session_start_time": null,
              "execution_start_time": "2025-04-09T21:25:59.564393Z",
              "execution_finish_time": "2025-04-09T21:26:07.0855793Z",
              "parent_msg_id": "2a60d7b0-9b22-411b-9647-c11881ab9255"
            },
            "text/plain": "StatementMeta(spark4awmfpe, 0, 18, Finished, Available, Finished)"
          },
          "metadata": {}
        },
        {
          "output_type": "execute_result",
          "execution_count": 12,
          "data": {
            "application/vnd.synapse.sparksql-result+json": {
              "schema": {
                "type": "struct",
                "fields": []
              },
              "data": []
            },
            "text/plain": "<Spark SQL result set with 0 rows and 0 fields>"
          },
          "metadata": {}
        },
        {
          "output_type": "execute_result",
          "execution_count": 12,
          "data": {
            "application/vnd.synapse.sparksql-result+json": {
              "schema": {
                "type": "struct",
                "fields": []
              },
              "data": []
            },
            "text/plain": "<Spark SQL result set with 0 rows and 0 fields>"
          },
          "metadata": {}
        },
        {
          "output_type": "execute_result",
          "execution_count": 12,
          "data": {
            "application/vnd.synapse.sparksql-result+json": {
              "schema": {
                "type": "struct",
                "fields": []
              },
              "data": []
            },
            "text/plain": "<Spark SQL result set with 0 rows and 0 fields>"
          },
          "metadata": {}
        }
      ],
      "execution_count": 12,
      "metadata": {
        "microsoft": {
          "language": "sparksql"
        },
        "collapsed": false
      }
    },
    {
      "cell_type": "code",
      "source": [
        "%%sql\r\n",
        "\r\n",
        "USE AdventureWorks;\r\n",
        "\r\n",
        "CREATE TABLE Products\r\n",
        "USING DELTA\r\n",
        "LOCATION '/delta/products-delta';\r\n"
      ],
      "outputs": [
        {
          "output_type": "display_data",
          "data": {
            "application/vnd.livy.statement-meta+json": {
              "spark_pool": "spark4awmfpe",
              "statement_id": 20,
              "statement_ids": [
                19,
                20
              ],
              "state": "finished",
              "livy_statement_state": "available",
              "spark_jobs": null,
              "session_id": "0",
              "normalized_state": "finished",
              "queued_time": "2025-04-09T21:30:36.6755403Z",
              "session_start_time": null,
              "execution_start_time": "2025-04-09T21:30:36.6765046Z",
              "execution_finish_time": "2025-04-09T21:30:39.8313313Z",
              "parent_msg_id": "ec14e3d2-5254-4f28-b7d2-da793fa38bca"
            },
            "text/plain": "StatementMeta(spark4awmfpe, 0, 20, Finished, Available, Finished)"
          },
          "metadata": {}
        },
        {
          "output_type": "execute_result",
          "execution_count": 13,
          "data": {
            "application/vnd.synapse.sparksql-result+json": {
              "schema": {
                "type": "struct",
                "fields": []
              },
              "data": []
            },
            "text/plain": "<Spark SQL result set with 0 rows and 0 fields>"
          },
          "metadata": {}
        },
        {
          "output_type": "execute_result",
          "execution_count": 13,
          "data": {
            "application/vnd.synapse.sparksql-result+json": {
              "schema": {
                "type": "struct",
                "fields": []
              },
              "data": []
            },
            "text/plain": "<Spark SQL result set with 0 rows and 0 fields>"
          },
          "metadata": {}
        }
      ],
      "execution_count": 13,
      "metadata": {
        "microsoft": {
          "language": "sparksql"
        },
        "collapsed": false
      }
    },
    {
      "cell_type": "code",
      "source": [
        "%%sql\r\n",
        "\r\n",
        "USE AdventureWorks;\r\n",
        "\r\n",
        "SELECT * FROM Products;\r\n"
      ],
      "outputs": [
        {
          "output_type": "display_data",
          "data": {
            "application/vnd.livy.statement-meta+json": {
              "spark_pool": "spark4awmfpe",
              "statement_id": 22,
              "statement_ids": [
                21,
                22
              ],
              "state": "finished",
              "livy_statement_state": "available",
              "spark_jobs": null,
              "session_id": "0",
              "normalized_state": "finished",
              "queued_time": "2025-04-09T21:31:24.4952666Z",
              "session_start_time": null,
              "execution_start_time": "2025-04-09T21:31:24.4960599Z",
              "execution_finish_time": "2025-04-09T21:31:27.2659875Z",
              "parent_msg_id": "5eaf9f06-2773-40f2-ba85-7db636dc7cd5"
            },
            "text/plain": "StatementMeta(spark4awmfpe, 0, 22, Finished, Available, Finished)"
          },
          "metadata": {}
        },
        {
          "output_type": "execute_result",
          "execution_count": 14,
          "data": {
            "application/vnd.synapse.sparksql-result+json": {
              "schema": {
                "type": "struct",
                "fields": []
              },
              "data": []
            },
            "text/plain": "<Spark SQL result set with 0 rows and 0 fields>"
          },
          "metadata": {}
        },
        {
          "output_type": "execute_result",
          "execution_count": 14,
          "data": {
            "application/vnd.synapse.sparksql-result+json": {
              "schema": {
                "type": "struct",
                "fields": [
                  {
                    "name": "ProductID",
                    "type": "string",
                    "nullable": true,
                    "metadata": {}
                  },
                  {
                    "name": "ProductName",
                    "type": "string",
                    "nullable": true,
                    "metadata": {}
                  },
                  {
                    "name": "Category",
                    "type": "string",
                    "nullable": true,
                    "metadata": {}
                  },
                  {
                    "name": "ListPrice",
                    "type": "string",
                    "nullable": true,
                    "metadata": {}
                  }
                ]
              },
              "data": [
                [
                  "771",
                  "Mountain-100 Silver, 38",
                  "Mountain Bikes",
                  "3059.991"
                ],
                [
                  "772",
                  "Mountain-100 Silver, 42",
                  "Mountain Bikes",
                  "3399.9900"
                ],
                [
                  "773",
                  "Mountain-100 Silver, 44",
                  "Mountain Bikes",
                  "3399.9900"
                ],
                [
                  "774",
                  "Mountain-100 Silver, 48",
                  "Mountain Bikes",
                  "3399.9900"
                ],
                [
                  "775",
                  "Mountain-100 Black, 38",
                  "Mountain Bikes",
                  "3374.9900"
                ],
                [
                  "776",
                  "Mountain-100 Black, 42",
                  "Mountain Bikes",
                  "3374.9900"
                ],
                [
                  "777",
                  "Mountain-100 Black, 44",
                  "Mountain Bikes",
                  "3374.9900"
                ],
                [
                  "778",
                  "Mountain-100 Black, 48",
                  "Mountain Bikes",
                  "3374.9900"
                ],
                [
                  "779",
                  "Mountain-200 Silver, 38",
                  "Mountain Bikes",
                  "2319.9900"
                ],
                [
                  "780",
                  "Mountain-200 Silver, 42",
                  "Mountain Bikes",
                  "2319.9900"
                ],
                [
                  "781",
                  "Mountain-200 Silver, 46",
                  "Mountain Bikes",
                  "2319.9900"
                ],
                [
                  "782",
                  "Mountain-200 Black, 38",
                  "Mountain Bikes",
                  "2294.9900"
                ],
                [
                  "783",
                  "Mountain-200 Black, 42",
                  "Mountain Bikes",
                  "2294.9900"
                ],
                [
                  "784",
                  "Mountain-200 Black, 46",
                  "Mountain Bikes",
                  "2294.9900"
                ],
                [
                  "785",
                  "Mountain-300 Black, 38",
                  "Mountain Bikes",
                  "1079.9900"
                ],
                [
                  "786",
                  "Mountain-300 Black, 40",
                  "Mountain Bikes",
                  "1079.9900"
                ],
                [
                  "787",
                  "Mountain-300 Black, 44",
                  "Mountain Bikes",
                  "1079.9900"
                ],
                [
                  "788",
                  "Mountain-300 Black, 48",
                  "Mountain Bikes",
                  "1079.9900"
                ],
                [
                  "980",
                  "Mountain-400-W Silver, 38",
                  "Mountain Bikes",
                  "769.4900"
                ],
                [
                  "981",
                  "Mountain-400-W Silver, 40",
                  "Mountain Bikes",
                  "769.4900"
                ],
                [
                  "982",
                  "Mountain-400-W Silver, 42",
                  "Mountain Bikes",
                  "769.4900"
                ],
                [
                  "983",
                  "Mountain-400-W Silver, 46",
                  "Mountain Bikes",
                  "769.4900"
                ],
                [
                  "984",
                  "Mountain-500 Silver, 40",
                  "Mountain Bikes",
                  "564.9900"
                ],
                [
                  "985",
                  "Mountain-500 Silver, 42",
                  "Mountain Bikes",
                  "564.9900"
                ],
                [
                  "986",
                  "Mountain-500 Silver, 44",
                  "Mountain Bikes",
                  "564.9900"
                ],
                [
                  "987",
                  "Mountain-500 Silver, 48",
                  "Mountain Bikes",
                  "564.9900"
                ],
                [
                  "988",
                  "Mountain-500 Silver, 52",
                  "Mountain Bikes",
                  "564.9900"
                ],
                [
                  "989",
                  "Mountain-500 Black, 40",
                  "Mountain Bikes",
                  "539.9900"
                ],
                [
                  "990",
                  "Mountain-500 Black, 42",
                  "Mountain Bikes",
                  "539.9900"
                ],
                [
                  "991",
                  "Mountain-500 Black, 44",
                  "Mountain Bikes",
                  "539.9900"
                ],
                [
                  "992",
                  "Mountain-500 Black, 48",
                  "Mountain Bikes",
                  "539.9900"
                ],
                [
                  "993",
                  "Mountain-500 Black, 52",
                  "Mountain Bikes",
                  "539.9900"
                ],
                [
                  "973",
                  "Road-350-W Yellow, 40",
                  "Road Bikes",
                  "1700.9900"
                ],
                [
                  "974",
                  "Road-350-W Yellow, 42",
                  "Road Bikes",
                  "1700.9900"
                ],
                [
                  "975",
                  "Road-350-W Yellow, 44",
                  "Road Bikes",
                  "1700.9900"
                ],
                [
                  "976",
                  "Road-350-W Yellow, 48",
                  "Road Bikes",
                  "1700.9900"
                ],
                [
                  "977",
                  "Road-750 Black, 58",
                  "Road Bikes",
                  "539.9900"
                ],
                [
                  "997",
                  "Road-750 Black, 44",
                  "Road Bikes",
                  "539.9900"
                ],
                [
                  "998",
                  "Road-750 Black, 48",
                  "Road Bikes",
                  "539.9900"
                ],
                [
                  "999",
                  "Road-750 Black, 52",
                  "Road Bikes",
                  "539.9900"
                ],
                [
                  "789",
                  "Road-250 Red, 44",
                  "Road Bikes",
                  "2443.3500"
                ],
                [
                  "790",
                  "Road-250 Red, 48",
                  "Road Bikes",
                  "2443.3500"
                ],
                [
                  "791",
                  "Road-250 Red, 52",
                  "Road Bikes",
                  "2443.3500"
                ],
                [
                  "792",
                  "Road-250 Red, 58",
                  "Road Bikes",
                  "2443.3500"
                ],
                [
                  "793",
                  "Road-250 Black, 44",
                  "Road Bikes",
                  "2443.3500"
                ],
                [
                  "794",
                  "Road-250 Black, 48",
                  "Road Bikes",
                  "2443.3500"
                ],
                [
                  "795",
                  "Road-250 Black, 52",
                  "Road Bikes",
                  "2443.3500"
                ],
                [
                  "796",
                  "Road-250 Black, 58",
                  "Road Bikes",
                  "2443.3500"
                ],
                [
                  "797",
                  "Road-550-W Yellow, 38",
                  "Road Bikes",
                  "1120.4900"
                ],
                [
                  "798",
                  "Road-550-W Yellow, 40",
                  "Road Bikes",
                  "1120.4900"
                ],
                [
                  "799",
                  "Road-550-W Yellow, 42",
                  "Road Bikes",
                  "1120.4900"
                ],
                [
                  "800",
                  "Road-550-W Yellow, 44",
                  "Road Bikes",
                  "1120.4900"
                ],
                [
                  "801",
                  "Road-550-W Yellow, 48",
                  "Road Bikes",
                  "1120.4900"
                ],
                [
                  "749",
                  "Road-150 Red, 62",
                  "Road Bikes",
                  "3578.2700"
                ],
                [
                  "750",
                  "Road-150 Red, 44",
                  "Road Bikes",
                  "3578.2700"
                ],
                [
                  "751",
                  "Road-150 Red, 48",
                  "Road Bikes",
                  "3578.2700"
                ],
                [
                  "752",
                  "Road-150 Red, 52",
                  "Road Bikes",
                  "3578.2700"
                ],
                [
                  "753",
                  "Road-150 Red, 56",
                  "Road Bikes",
                  "3578.2700"
                ],
                [
                  "754",
                  "Road-450 Red, 58",
                  "Road Bikes",
                  "1457.9900"
                ],
                [
                  "755",
                  "Road-450 Red, 60",
                  "Road Bikes",
                  "1457.9900"
                ],
                [
                  "756",
                  "Road-450 Red, 44",
                  "Road Bikes",
                  "1457.9900"
                ],
                [
                  "757",
                  "Road-450 Red, 48",
                  "Road Bikes",
                  "1457.9900"
                ],
                [
                  "758",
                  "Road-450 Red, 52",
                  "Road Bikes",
                  "1457.9900"
                ],
                [
                  "759",
                  "Road-650 Red, 58",
                  "Road Bikes",
                  "782.9900"
                ],
                [
                  "760",
                  "Road-650 Red, 60",
                  "Road Bikes",
                  "782.9900"
                ],
                [
                  "761",
                  "Road-650 Red, 62",
                  "Road Bikes",
                  "782.9900"
                ],
                [
                  "762",
                  "Road-650 Red, 44",
                  "Road Bikes",
                  "782.9900"
                ],
                [
                  "763",
                  "Road-650 Red, 48",
                  "Road Bikes",
                  "782.9900"
                ],
                [
                  "764",
                  "Road-650 Red, 52",
                  "Road Bikes",
                  "782.9900"
                ],
                [
                  "765",
                  "Road-650 Black, 58",
                  "Road Bikes",
                  "782.9900"
                ],
                [
                  "766",
                  "Road-650 Black, 60",
                  "Road Bikes",
                  "782.9900"
                ],
                [
                  "767",
                  "Road-650 Black, 62",
                  "Road Bikes",
                  "782.9900"
                ],
                [
                  "768",
                  "Road-650 Black, 44",
                  "Road Bikes",
                  "782.9900"
                ],
                [
                  "769",
                  "Road-650 Black, 48",
                  "Road Bikes",
                  "782.9900"
                ],
                [
                  "770",
                  "Road-650 Black, 52",
                  "Road Bikes",
                  "782.9900"
                ],
                [
                  "978",
                  "Touring-3000 Blue, 44",
                  "Touring Bikes",
                  "742.3500"
                ],
                [
                  "979",
                  "Touring-3000 Blue, 50",
                  "Touring Bikes",
                  "742.3500"
                ],
                [
                  "953",
                  "Touring-2000 Blue, 60",
                  "Touring Bikes",
                  "1214.8500"
                ],
                [
                  "954",
                  "Touring-1000 Yellow, 46",
                  "Touring Bikes",
                  "2384.0700"
                ],
                [
                  "955",
                  "Touring-1000 Yellow, 50",
                  "Touring Bikes",
                  "2384.0700"
                ],
                [
                  "956",
                  "Touring-1000 Yellow, 54",
                  "Touring Bikes",
                  "2384.0700"
                ],
                [
                  "957",
                  "Touring-1000 Yellow, 60",
                  "Touring Bikes",
                  "2384.0700"
                ],
                [
                  "958",
                  "Touring-3000 Blue, 54",
                  "Touring Bikes",
                  "742.3500"
                ],
                [
                  "959",
                  "Touring-3000 Blue, 58",
                  "Touring Bikes",
                  "742.3500"
                ],
                [
                  "960",
                  "Touring-3000 Blue, 62",
                  "Touring Bikes",
                  "742.3500"
                ],
                [
                  "961",
                  "Touring-3000 Yellow, 44",
                  "Touring Bikes",
                  "742.3500"
                ],
                [
                  "962",
                  "Touring-3000 Yellow, 50",
                  "Touring Bikes",
                  "742.3500"
                ],
                [
                  "963",
                  "Touring-3000 Yellow, 54",
                  "Touring Bikes",
                  "742.3500"
                ],
                [
                  "964",
                  "Touring-3000 Yellow, 58",
                  "Touring Bikes",
                  "742.3500"
                ],
                [
                  "965",
                  "Touring-3000 Yellow, 62",
                  "Touring Bikes",
                  "742.3500"
                ],
                [
                  "966",
                  "Touring-1000 Blue, 46",
                  "Touring Bikes",
                  "2384.0700"
                ],
                [
                  "967",
                  "Touring-1000 Blue, 50",
                  "Touring Bikes",
                  "2384.0700"
                ],
                [
                  "968",
                  "Touring-1000 Blue, 54",
                  "Touring Bikes",
                  "2384.0700"
                ],
                [
                  "969",
                  "Touring-1000 Blue, 60",
                  "Touring Bikes",
                  "2384.0700"
                ],
                [
                  "970",
                  "Touring-2000 Blue, 46",
                  "Touring Bikes",
                  "1214.8500"
                ],
                [
                  "971",
                  "Touring-2000 Blue, 50",
                  "Touring Bikes",
                  "1214.8500"
                ],
                [
                  "972",
                  "Touring-2000 Blue, 54",
                  "Touring Bikes",
                  "1214.8500"
                ],
                [
                  "946",
                  "LL Touring Handlebars",
                  "Handlebars",
                  "46.0900"
                ],
                [
                  "947",
                  "HL Touring Handlebars",
                  "Handlebars",
                  "91.5700"
                ],
                [
                  "808",
                  "LL Mountain Handlebars",
                  "Handlebars",
                  "44.5400"
                ],
                [
                  "809",
                  "ML Mountain Handlebars",
                  "Handlebars",
                  "61.9200"
                ],
                [
                  "810",
                  "HL Mountain Handlebars",
                  "Handlebars",
                  "120.2700"
                ],
                [
                  "811",
                  "LL Road Handlebars",
                  "Handlebars",
                  "44.5400"
                ],
                [
                  "812",
                  "ML Road Handlebars",
                  "Handlebars",
                  "61.9200"
                ],
                [
                  "813",
                  "HL Road Handlebars",
                  "Handlebars",
                  "120.2700"
                ],
                [
                  "994",
                  "LL Bottom Bracket",
                  "Bottom Brackets",
                  "53.9900"
                ],
                [
                  "995",
                  "ML Bottom Bracket",
                  "Bottom Brackets",
                  "101.2400"
                ],
                [
                  "996",
                  "HL Bottom Bracket",
                  "Bottom Brackets",
                  "121.4900"
                ],
                [
                  "948",
                  "Front Brakes",
                  "Brakes",
                  "106.5000"
                ],
                [
                  "907",
                  "Rear Brakes",
                  "Brakes",
                  "106.5000"
                ],
                [
                  "952",
                  "Chain",
                  "Chains",
                  "20.2400"
                ],
                [
                  "949",
                  "LL Crankset",
                  "Cranksets",
                  "175.4900"
                ],
                [
                  "950",
                  "ML Crankset",
                  "Cranksets",
                  "256.4900"
                ],
                [
                  "951",
                  "HL Crankset",
                  "Cranksets",
                  "404.9900"
                ],
                [
                  "945",
                  "Front Derailleur",
                  "Derailleurs",
                  "91.4900"
                ],
                [
                  "894",
                  "Rear Derailleur",
                  "Derailleurs",
                  "121.4600"
                ],
                [
                  "802",
                  "LL Fork",
                  "Forks",
                  "148.2200"
                ],
                [
                  "803",
                  "ML Fork",
                  "Forks",
                  "175.4900"
                ],
                [
                  "804",
                  "HL Fork",
                  "Forks",
                  "229.4900"
                ],
                [
                  "805",
                  "LL Headset",
                  "Headsets",
                  "34.2000"
                ],
                [
                  "806",
                  "ML Headset",
                  "Headsets",
                  "102.2900"
                ],
                [
                  "807",
                  "HL Headset",
                  "Headsets",
                  "124.7300"
                ],
                [
                  "739",
                  "HL Mountain Frame - Silver, 42",
                  "Mountain Frames",
                  "1364.5000"
                ],
                [
                  "740",
                  "HL Mountain Frame - Silver, 44",
                  "Mountain Frames",
                  "1364.5000"
                ],
                [
                  "741",
                  "HL Mountain Frame - Silver, 48",
                  "Mountain Frames",
                  "1364.5000"
                ],
                [
                  "742",
                  "HL Mountain Frame - Silver, 46",
                  "Mountain Frames",
                  "1364.5000"
                ],
                [
                  "743",
                  "HL Mountain Frame - Black, 42",
                  "Mountain Frames",
                  "1349.6000"
                ],
                [
                  "744",
                  "HL Mountain Frame - Black, 44",
                  "Mountain Frames",
                  "1349.6000"
                ],
                [
                  "745",
                  "HL Mountain Frame - Black, 48",
                  "Mountain Frames",
                  "1349.6000"
                ],
                [
                  "746",
                  "HL Mountain Frame - Black, 46",
                  "Mountain Frames",
                  "1349.6000"
                ],
                [
                  "747",
                  "HL Mountain Frame - Black, 38",
                  "Mountain Frames",
                  "1349.6000"
                ],
                [
                  "748",
                  "HL Mountain Frame - Silver, 38",
                  "Mountain Frames",
                  "1364.5000"
                ],
                [
                  "814",
                  "ML Mountain Frame - Black, 38",
                  "Mountain Frames",
                  "348.7600"
                ],
                [
                  "830",
                  "ML Mountain Frame - Black, 40",
                  "Mountain Frames",
                  "348.7600"
                ],
                [
                  "831",
                  "ML Mountain Frame - Black, 44",
                  "Mountain Frames",
                  "348.7600"
                ],
                [
                  "832",
                  "ML Mountain Frame - Black, 48",
                  "Mountain Frames",
                  "348.7600"
                ],
                [
                  "924",
                  "LL Mountain Frame - Black, 42",
                  "Mountain Frames",
                  "249.7900"
                ],
                [
                  "925",
                  "LL Mountain Frame - Black, 44",
                  "Mountain Frames",
                  "249.7900"
                ],
                [
                  "926",
                  "LL Mountain Frame - Black, 48",
                  "Mountain Frames",
                  "249.7900"
                ],
                [
                  "927",
                  "LL Mountain Frame - Black, 52",
                  "Mountain Frames",
                  "249.7900"
                ],
                [
                  "917",
                  "LL Mountain Frame - Silver, 42",
                  "Mountain Frames",
                  "264.0500"
                ],
                [
                  "918",
                  "LL Mountain Frame - Silver, 44",
                  "Mountain Frames",
                  "264.0500"
                ],
                [
                  "919",
                  "LL Mountain Frame - Silver, 48",
                  "Mountain Frames",
                  "264.0500"
                ],
                [
                  "920",
                  "LL Mountain Frame - Silver, 52",
                  "Mountain Frames",
                  "264.0500"
                ],
                [
                  "904",
                  "ML Mountain Frame-W - Silver, 40",
                  "Mountain Frames",
                  "364.0900"
                ],
                [
                  "905",
                  "ML Mountain Frame-W - Silver, 42",
                  "Mountain Frames",
                  "364.0900"
                ],
                [
                  "906",
                  "ML Mountain Frame-W - Silver, 46",
                  "Mountain Frames",
                  "364.0900"
                ],
                [
                  "942",
                  "ML Mountain Frame-W - Silver, 38",
                  "Mountain Frames",
                  "364.0900"
                ],
                [
                  "943",
                  "LL Mountain Frame - Black, 40",
                  "Mountain Frames",
                  "249.7900"
                ],
                [
                  "944",
                  "LL Mountain Frame - Silver, 40",
                  "Mountain Frames",
                  "264.0500"
                ],
                [
                  "935",
                  "LL Mountain Pedal",
                  "Pedals",
                  "40.4900"
                ],
                [
                  "936",
                  "ML Mountain Pedal",
                  "Pedals",
                  "62.0900"
                ],
                [
                  "937",
                  "HL Mountain Pedal",
                  "Pedals",
                  "80.9900"
                ],
                [
                  "938",
                  "LL Road Pedal",
                  "Pedals",
                  "40.4900"
                ],
                [
                  "939",
                  "ML Road Pedal",
                  "Pedals",
                  "62.0900"
                ],
                [
                  "940",
                  "HL Road Pedal",
                  "Pedals",
                  "80.9900"
                ],
                [
                  "941",
                  "Touring Pedal",
                  "Pedals",
                  "80.9900"
                ],
                [
                  "833",
                  "ML Road Frame-W - Yellow, 40",
                  "Road Frames",
                  "594.8300"
                ],
                [
                  "834",
                  "ML Road Frame-W - Yellow, 42",
                  "Road Frames",
                  "594.8300"
                ],
                [
                  "835",
                  "ML Road Frame-W - Yellow, 44",
                  "Road Frames",
                  "594.8300"
                ],
                [
                  "836",
                  "ML Road Frame-W - Yellow, 48",
                  "Road Frames",
                  "594.8300"
                ],
                [
                  "837",
                  "HL Road Frame - Black, 62",
                  "Road Frames",
                  "1431.5000"
                ],
                [
                  "838",
                  "HL Road Frame - Black, 44",
                  "Road Frames",
                  "1431.5000"
                ],
                [
                  "839",
                  "HL Road Frame - Black, 48",
                  "Road Frames",
                  "1431.5000"
                ],
                [
                  "840",
                  "HL Road Frame - Black, 52",
                  "Road Frames",
                  "1431.5000"
                ],
                [
                  "822",
                  "ML Road Frame-W - Yellow, 38",
                  "Road Frames",
                  "594.8300"
                ],
                [
                  "680",
                  "HL Road Frame - Black, 58",
                  "Road Frames",
                  "1431.5000"
                ],
                [
                  "706",
                  "HL Road Frame - Red, 58",
                  "Road Frames",
                  "1431.5000"
                ],
                [
                  "717",
                  "HL Road Frame - Red, 62",
                  "Road Frames",
                  "1431.5000"
                ],
                [
                  "718",
                  "HL Road Frame - Red, 44",
                  "Road Frames",
                  "1431.5000"
                ],
                [
                  "719",
                  "HL Road Frame - Red, 48",
                  "Road Frames",
                  "1431.5000"
                ],
                [
                  "720",
                  "HL Road Frame - Red, 52",
                  "Road Frames",
                  "1431.5000"
                ],
                [
                  "721",
                  "HL Road Frame - Red, 56",
                  "Road Frames",
                  "1431.5000"
                ],
                [
                  "722",
                  "LL Road Frame - Black, 58",
                  "Road Frames",
                  "337.2200"
                ],
                [
                  "723",
                  "LL Road Frame - Black, 60",
                  "Road Frames",
                  "337.2200"
                ],
                [
                  "724",
                  "LL Road Frame - Black, 62",
                  "Road Frames",
                  "337.2200"
                ],
                [
                  "725",
                  "LL Road Frame - Red, 44",
                  "Road Frames",
                  "337.2200"
                ],
                [
                  "726",
                  "LL Road Frame - Red, 48",
                  "Road Frames",
                  "337.2200"
                ],
                [
                  "727",
                  "LL Road Frame - Red, 52",
                  "Road Frames",
                  "337.2200"
                ],
                [
                  "728",
                  "LL Road Frame - Red, 58",
                  "Road Frames",
                  "337.2200"
                ],
                [
                  "729",
                  "LL Road Frame - Red, 60",
                  "Road Frames",
                  "337.2200"
                ],
                [
                  "730",
                  "LL Road Frame - Red, 62",
                  "Road Frames",
                  "337.2200"
                ],
                [
                  "731",
                  "ML Road Frame - Red, 44",
                  "Road Frames",
                  "594.8300"
                ],
                [
                  "732",
                  "ML Road Frame - Red, 48",
                  "Road Frames",
                  "594.8300"
                ],
                [
                  "733",
                  "ML Road Frame - Red, 52",
                  "Road Frames",
                  "594.8300"
                ],
                [
                  "734",
                  "ML Road Frame - Red, 58",
                  "Road Frames",
                  "594.8300"
                ],
                [
                  "735",
                  "ML Road Frame - Red, 60",
                  "Road Frames",
                  "594.8300"
                ],
                [
                  "736",
                  "LL Road Frame - Black, 44",
                  "Road Frames",
                  "337.2200"
                ],
                [
                  "737",
                  "LL Road Frame - Black, 48",
                  "Road Frames",
                  "337.2200"
                ],
                [
                  "738",
                  "LL Road Frame - Black, 52",
                  "Road Frames",
                  "337.2200"
                ],
                [
                  "908",
                  "LL Mountain Seat/Saddle",
                  "Saddles",
                  "27.1200"
                ],
                [
                  "909",
                  "ML Mountain Seat/Saddle",
                  "Saddles",
                  "39.1400"
                ],
                [
                  "910",
                  "HL Mountain Seat/Saddle",
                  "Saddles",
                  "52.6400"
                ],
                [
                  "911",
                  "LL Road Seat/Saddle",
                  "Saddles",
                  "27.1200"
                ],
                [
                  "912",
                  "ML Road Seat/Saddle",
                  "Saddles",
                  "39.1400"
                ],
                [
                  "913",
                  "HL Road Seat/Saddle",
                  "Saddles",
                  "52.6400"
                ],
                [
                  "914",
                  "LL Touring Seat/Saddle",
                  "Saddles",
                  "27.1200"
                ],
                [
                  "915",
                  "ML Touring Seat/Saddle",
                  "Saddles",
                  "39.1400"
                ],
                [
                  "916",
                  "HL Touring Seat/Saddle",
                  "Saddles",
                  "52.6400"
                ],
                [
                  "895",
                  "LL Touring Frame - Blue, 50",
                  "Touring Frames",
                  "333.4200"
                ],
                [
                  "896",
                  "LL Touring Frame - Blue, 54",
                  "Touring Frames",
                  "333.4200"
                ],
                [
                  "897",
                  "LL Touring Frame - Blue, 58",
                  "Touring Frames",
                  "333.4200"
                ],
                [
                  "898",
                  "LL Touring Frame - Blue, 62",
                  "Touring Frames",
                  "333.4200"
                ],
                [
                  "899",
                  "LL Touring Frame - Yellow, 44",
                  "Touring Frames",
                  "333.4200"
                ],
                [
                  "900",
                  "LL Touring Frame - Yellow, 50",
                  "Touring Frames",
                  "333.4200"
                ],
                [
                  "901",
                  "LL Touring Frame - Yellow, 54",
                  "Touring Frames",
                  "333.4200"
                ],
                [
                  "902",
                  "LL Touring Frame - Yellow, 58",
                  "Touring Frames",
                  "333.4200"
                ],
                [
                  "903",
                  "LL Touring Frame - Blue, 44",
                  "Touring Frames",
                  "333.4200"
                ],
                [
                  "885",
                  "HL Touring Frame - Yellow, 60",
                  "Touring Frames",
                  "1003.9100"
                ],
                [
                  "886",
                  "LL Touring Frame - Yellow, 62",
                  "Touring Frames",
                  "333.4200"
                ],
                [
                  "887",
                  "HL Touring Frame - Yellow, 46",
                  "Touring Frames",
                  "1003.9100"
                ],
                [
                  "888",
                  "HL Touring Frame - Yellow, 50",
                  "Touring Frames",
                  "1003.9100"
                ],
                [
                  "889",
                  "HL Touring Frame - Yellow, 54",
                  "Touring Frames",
                  "1003.9100"
                ],
                [
                  "890",
                  "HL Touring Frame - Blue, 46",
                  "Touring Frames",
                  "1003.9100"
                ],
                [
                  "891",
                  "HL Touring Frame - Blue, 50",
                  "Touring Frames",
                  "1003.9100"
                ],
                [
                  "892",
                  "HL Touring Frame - Blue, 54",
                  "Touring Frames",
                  "1003.9100"
                ],
                [
                  "893",
                  "HL Touring Frame - Blue, 60",
                  "Touring Frames",
                  "1003.9100"
                ],
                [
                  "823",
                  "LL Mountain Rear Wheel",
                  "Wheels",
                  "87.7450"
                ],
                [
                  "824",
                  "ML Mountain Rear Wheel",
                  "Wheels",
                  "236.0250"
                ],
                [
                  "825",
                  "HL Mountain Rear Wheel",
                  "Wheels",
                  "327.2150"
                ],
                [
                  "826",
                  "LL Road Rear Wheel",
                  "Wheels",
                  "112.5650"
                ],
                [
                  "827",
                  "ML Road Rear Wheel",
                  "Wheels",
                  "275.3850"
                ],
                [
                  "828",
                  "HL Road Rear Wheel",
                  "Wheels",
                  "357.0600"
                ],
                [
                  "829",
                  "Touring Rear Wheel",
                  "Wheels",
                  "245.0100"
                ],
                [
                  "815",
                  "LL Mountain Front Wheel",
                  "Wheels",
                  "60.7450"
                ],
                [
                  "816",
                  "ML Mountain Front Wheel",
                  "Wheels",
                  "209.0250"
                ],
                [
                  "817",
                  "HL Mountain Front Wheel",
                  "Wheels",
                  "300.2150"
                ],
                [
                  "818",
                  "LL Road Front Wheel",
                  "Wheels",
                  "85.5650"
                ],
                [
                  "819",
                  "ML Road Front Wheel",
                  "Wheels",
                  "248.3850"
                ],
                [
                  "820",
                  "HL Road Front Wheel",
                  "Wheels",
                  "330.0600"
                ],
                [
                  "821",
                  "Touring Front Wheel",
                  "Wheels",
                  "218.0100"
                ],
                [
                  "855",
                  "Men's Bib-Shorts, S",
                  "Bib-Shorts",
                  "89.9900"
                ],
                [
                  "856",
                  "Men's Bib-Shorts, M",
                  "Bib-Shorts",
                  "89.9900"
                ],
                [
                  "857",
                  "Men's Bib-Shorts, L",
                  "Bib-Shorts",
                  "89.9900"
                ],
                [
                  "712",
                  "AWC Logo Cap",
                  "Caps",
                  "8.9900"
                ],
                [
                  "858",
                  "Half-Finger Gloves, S",
                  "Gloves",
                  "24.4900"
                ],
                [
                  "859",
                  "Half-Finger Gloves, M",
                  "Gloves",
                  "24.4900"
                ],
                [
                  "860",
                  "Half-Finger Gloves, L",
                  "Gloves",
                  "24.4900"
                ],
                [
                  "861",
                  "Full-Finger Gloves, S",
                  "Gloves",
                  "37.9900"
                ],
                [
                  "862",
                  "Full-Finger Gloves, M",
                  "Gloves",
                  "37.9900"
                ],
                [
                  "863",
                  "Full-Finger Gloves, L",
                  "Gloves",
                  "37.9900"
                ],
                [
                  "713",
                  "Long-Sleeve Logo Jersey, S",
                  "Jerseys",
                  "49.9900"
                ],
                [
                  "714",
                  "Long-Sleeve Logo Jersey, M",
                  "Jerseys",
                  "49.9900"
                ],
                [
                  "715",
                  "Long-Sleeve Logo Jersey, L",
                  "Jerseys",
                  "49.9900"
                ],
                [
                  "716",
                  "Long-Sleeve Logo Jersey, XL",
                  "Jerseys",
                  "49.9900"
                ],
                [
                  "881",
                  "Short-Sleeve Classic Jersey, S",
                  "Jerseys",
                  "53.9900"
                ],
                [
                  "882",
                  "Short-Sleeve Classic Jersey, M",
                  "Jerseys",
                  "53.9900"
                ],
                [
                  "883",
                  "Short-Sleeve Classic Jersey, L",
                  "Jerseys",
                  "53.9900"
                ],
                [
                  "884",
                  "Short-Sleeve Classic Jersey, XL",
                  "Jerseys",
                  "53.9900"
                ],
                [
                  "867",
                  "Women's Mountain Shorts, S",
                  "Shorts",
                  "69.9900"
                ],
                [
                  "868",
                  "Women's Mountain Shorts, M",
                  "Shorts",
                  "69.9900"
                ],
                [
                  "869",
                  "Women's Mountain Shorts, L",
                  "Shorts",
                  "69.9900"
                ],
                [
                  "841",
                  "Men's Sports Shorts, S",
                  "Shorts",
                  "59.9900"
                ],
                [
                  "849",
                  "Men's Sports Shorts, M",
                  "Shorts",
                  "59.9900"
                ],
                [
                  "850",
                  "Men's Sports Shorts, L",
                  "Shorts",
                  "59.9900"
                ],
                [
                  "851",
                  "Men's Sports Shorts, XL",
                  "Shorts",
                  "59.9900"
                ],
                [
                  "709",
                  "Mountain Bike Socks, M",
                  "Socks",
                  "9.5000"
                ],
                [
                  "710",
                  "Mountain Bike Socks, L",
                  "Socks",
                  "9.5000"
                ],
                [
                  "874",
                  "Racing Socks, M",
                  "Socks",
                  "8.9900"
                ],
                [
                  "875",
                  "Racing Socks, L",
                  "Socks",
                  "8.9900"
                ],
                [
                  "852",
                  "Women's Tights, S",
                  "Tights",
                  "74.9900"
                ],
                [
                  "853",
                  "Women's Tights, M",
                  "Tights",
                  "74.9900"
                ],
                [
                  "854",
                  "Women's Tights, L",
                  "Tights",
                  "74.9900"
                ],
                [
                  "864",
                  "Classic Vest, S",
                  "Vests",
                  "63.5000"
                ],
                [
                  "865",
                  "Classic Vest, M",
                  "Vests",
                  "63.5000"
                ],
                [
                  "866",
                  "Classic Vest, L",
                  "Vests",
                  "63.5000"
                ],
                [
                  "876",
                  "Hitch Rack - 4-Bike",
                  "Bike Racks",
                  "120.0000"
                ],
                [
                  "879",
                  "All-Purpose Bike Stand",
                  "Bike Stands",
                  "159.0000"
                ],
                [
                  "870",
                  "Water Bottle - 30 oz.",
                  "Bottles and Cages",
                  "4.9900"
                ],
                [
                  "871",
                  "Mountain Bottle Cage",
                  "Bottles and Cages",
                  "9.9900"
                ],
                [
                  "872",
                  "Road Bottle Cage",
                  "Bottles and Cages",
                  "8.9900"
                ],
                [
                  "877",
                  "Bike Wash - Dissolver",
                  "Cleaners",
                  "7.9500"
                ],
                [
                  "878",
                  "Fender Set - Mountain",
                  "Fenders",
                  "21.9800"
                ],
                [
                  "711",
                  "Sport-100 Helmet, Blue",
                  "Helmets",
                  "34.9900"
                ],
                [
                  "707",
                  "Sport-100 Helmet, Red",
                  "Helmets",
                  "34.9900"
                ],
                [
                  "708",
                  "Sport-100 Helmet, Black",
                  "Helmets",
                  "34.9900"
                ],
                [
                  "880",
                  "Hydration Pack - 70 oz.",
                  "Hydration Packs",
                  "54.9900"
                ],
                [
                  "846",
                  "Taillights - Battery-Powered",
                  "Lights",
                  "13.9900"
                ],
                [
                  "847",
                  "Headlights - Dual-Beam",
                  "Lights",
                  "34.9900"
                ],
                [
                  "848",
                  "Headlights - Weatherproof",
                  "Lights",
                  "44.9900"
                ],
                [
                  "843",
                  "Cable Lock",
                  "Locks",
                  "25.0000"
                ],
                [
                  "842",
                  "Touring-Panniers, Large",
                  "Panniers",
                  "125.0000"
                ],
                [
                  "844",
                  "Minipump",
                  "Pumps",
                  "19.9900"
                ],
                [
                  "845",
                  "Mountain Pump",
                  "Pumps",
                  "24.9900"
                ],
                [
                  "873",
                  "Patch Kit/8 Patches",
                  "Tires and Tubes",
                  "2.2900"
                ],
                [
                  "921",
                  "Mountain Tire Tube",
                  "Tires and Tubes",
                  "4.9900"
                ],
                [
                  "922",
                  "Road Tire Tube",
                  "Tires and Tubes",
                  "3.9900"
                ],
                [
                  "923",
                  "Touring Tire Tube",
                  "Tires and Tubes",
                  "4.9900"
                ],
                [
                  "928",
                  "LL Mountain Tire",
                  "Tires and Tubes",
                  "24.9900"
                ],
                [
                  "929",
                  "ML Mountain Tire",
                  "Tires and Tubes",
                  "29.9900"
                ],
                [
                  "930",
                  "HL Mountain Tire",
                  "Tires and Tubes",
                  "35.0000"
                ],
                [
                  "931",
                  "LL Road Tire",
                  "Tires and Tubes",
                  "21.4900"
                ],
                [
                  "932",
                  "ML Road Tire",
                  "Tires and Tubes",
                  "24.9900"
                ],
                [
                  "933",
                  "HL Road Tire",
                  "Tires and Tubes",
                  "32.6000"
                ],
                [
                  "934",
                  "Touring Tire",
                  "Tires and Tubes",
                  "28.9900"
                ]
              ]
            },
            "text/plain": "<Spark SQL result set with 295 rows and 4 fields>"
          },
          "metadata": {}
        }
      ],
      "execution_count": 14,
      "metadata": {
        "microsoft": {
          "language": "sparksql"
        },
        "collapsed": false
      }
    },
    {
      "cell_type": "code",
      "source": [
        "from notebookutils import mssparkutils\r\n",
        "from pyspark.sql.types import *\r\n",
        "from pyspark.sql.functions import *\r\n",
        "\r\n",
        "\r\n",
        "inputPath = '/data/'\r\n",
        "mssparkutils.fs.mkdirs(inputPath)\r\n",
        "\r\n",
        "\r\n",
        "jsonSchema = StructType([\r\n",
        "    StructField(\"device\", StringType(), False),\r\n",
        "    StructField(\"status\", StringType(), False)\r\n",
        "])\r\n",
        "\r\n",
        "\r\n",
        "iotstream = spark.readStream.schema(jsonSchema).option(\"maxFilesPerTrigger\", 1).json(inputPath)\r\n",
        "\r\n",
        "\r\n",
        "device_data = '''{\"device\":\"Dev1\",\"status\":\"ok\"}\r\n",
        "{\"device\":\"Dev1\",\"status\":\"ok\"}\r\n",
        "{\"device\":\"Dev1\",\"status\":\"ok\"}\r\n",
        "{\"device\":\"Dev2\",\"status\":\"error\"}\r\n",
        "{\"device\":\"Dev1\",\"status\":\"ok\"}\r\n",
        "{\"device\":\"Dev1\",\"status\":\"error\"}\r\n",
        "{\"device\":\"Dev2\",\"status\":\"ok\"}\r\n",
        "{\"device\":\"Dev2\",\"status\":\"error\"}\r\n",
        "{\"device\":\"Dev1\",\"status\":\"ok\"}'''\r\n",
        "mssparkutils.fs.put(inputPath + \"data.txt\", device_data, True)\r\n",
        "print(\"Source stream created...\")\r\n"
      ],
      "outputs": [
        {
          "output_type": "display_data",
          "data": {
            "application/vnd.livy.statement-meta+json": {
              "spark_pool": "spark4awmfpe",
              "statement_id": 23,
              "statement_ids": [
                23
              ],
              "state": "finished",
              "livy_statement_state": "available",
              "spark_jobs": null,
              "session_id": "0",
              "normalized_state": "finished",
              "queued_time": "2025-04-09T22:00:39.3306013Z",
              "session_start_time": null,
              "execution_start_time": "2025-04-09T22:00:39.3335093Z",
              "execution_finish_time": "2025-04-09T22:00:40.0179708Z",
              "parent_msg_id": "da859395-939e-4f5b-9a77-472ea9042784"
            },
            "text/plain": "StatementMeta(spark4awmfpe, 0, 23, Finished, Available, Finished)"
          },
          "metadata": {}
        },
        {
          "output_type": "stream",
          "name": "stdout",
          "text": [
            "Source stream created...\n"
          ]
        }
      ],
      "execution_count": 15,
      "metadata": {}
    },
    {
      "cell_type": "code",
      "source": [
        "delta_stream_table_path = '/delta/iotdevicedata'\r\n",
        "checkpointpath = '/delta/checkpoint'\r\n",
        "\r\n",
        "deltastream = iotstream.writeStream.format(\"delta\").option(\"checkpointLocation\", checkpointpath).start(delta_stream_table_path)\r\n",
        "print(\"Streaming to delta sink...\")"
      ],
      "outputs": [
        {
          "output_type": "display_data",
          "data": {
            "application/vnd.livy.statement-meta+json": {
              "spark_pool": "spark4awmfpe",
              "statement_id": 24,
              "statement_ids": [
                24
              ],
              "state": "finished",
              "livy_statement_state": "available",
              "spark_jobs": null,
              "session_id": "0",
              "normalized_state": "finished",
              "queued_time": "2025-04-09T22:25:04.7015219Z",
              "session_start_time": null,
              "execution_start_time": "2025-04-09T22:25:04.704176Z",
              "execution_finish_time": "2025-04-09T22:25:06.7913901Z",
              "parent_msg_id": "0c92bad8-cae6-48f9-912b-aad307136b27"
            },
            "text/plain": "StatementMeta(spark4awmfpe, 0, 24, Finished, Available, Finished)"
          },
          "metadata": {}
        },
        {
          "output_type": "stream",
          "name": "stdout",
          "text": [
            "Streaming to delta sink...\n"
          ]
        }
      ],
      "execution_count": 16,
      "metadata": {}
    },
    {
      "cell_type": "code",
      "source": [
        "df = spark.read.format(\"delta\").load(delta_stream_table_path)\r\n",
        "display(df)\r\n"
      ],
      "outputs": [
        {
          "output_type": "display_data",
          "data": {
            "application/vnd.livy.statement-meta+json": {
              "spark_pool": "spark4awmfpe",
              "statement_id": 25,
              "statement_ids": [
                25
              ],
              "state": "finished",
              "livy_statement_state": "available",
              "spark_jobs": null,
              "session_id": "0",
              "normalized_state": "finished",
              "queued_time": "2025-04-09T22:25:45.9874814Z",
              "session_start_time": null,
              "execution_start_time": "2025-04-09T22:25:45.9898763Z",
              "execution_finish_time": "2025-04-09T22:25:51.603748Z",
              "parent_msg_id": "39d86664-6472-443f-a1cc-c8cc58e6db28"
            },
            "text/plain": "StatementMeta(spark4awmfpe, 0, 25, Finished, Available, Finished)"
          },
          "metadata": {}
        },
        {
          "output_type": "display_data",
          "data": {
            "application/vnd.synapse.widget-view+json": {
              "widget_id": "400c4cea-cbb4-4331-bcde-df87ddc76566",
              "widget_type": "Synapse.DataFrame"
            },
            "text/plain": "SynapseWidget(Synapse.DataFrame, 400c4cea-cbb4-4331-bcde-df87ddc76566)"
          },
          "metadata": {}
        }
      ],
      "execution_count": 17,
      "metadata": {
        "collapsed": false
      }
    },
    {
      "cell_type": "code",
      "source": [
        "spark.sql(\"CREATE TABLE IotDeviceData USING DELTA LOCATION '{0}'\".format(delta_stream_table_path))\r\n"
      ],
      "outputs": [
        {
          "output_type": "display_data",
          "data": {
            "application/vnd.livy.statement-meta+json": {
              "spark_pool": "spark4awmfpe",
              "statement_id": 26,
              "statement_ids": [
                26
              ],
              "state": "finished",
              "livy_statement_state": "available",
              "spark_jobs": null,
              "session_id": "0",
              "normalized_state": "finished",
              "queued_time": "2025-04-09T22:26:42.7751823Z",
              "session_start_time": null,
              "execution_start_time": "2025-04-09T22:26:42.7782047Z",
              "execution_finish_time": "2025-04-09T22:26:45.8640609Z",
              "parent_msg_id": "6c56e6c2-2992-4e85-a0cc-05386143521c"
            },
            "text/plain": "StatementMeta(spark4awmfpe, 0, 26, Finished, Available, Finished)"
          },
          "metadata": {}
        },
        {
          "output_type": "execute_result",
          "execution_count": 27,
          "data": {
            "text/plain": "DataFrame[]"
          },
          "metadata": {}
        }
      ],
      "execution_count": 18,
      "metadata": {}
    },
    {
      "cell_type": "code",
      "source": [
        "%%sql\r\n",
        "\r\n",
        "SELECT * FROM IotDeviceData;\r\n"
      ],
      "outputs": [
        {
          "output_type": "display_data",
          "data": {
            "application/vnd.livy.statement-meta+json": {
              "spark_pool": "spark4awmfpe",
              "statement_id": 27,
              "statement_ids": [
                27
              ],
              "state": "finished",
              "livy_statement_state": "available",
              "spark_jobs": null,
              "session_id": "0",
              "normalized_state": "finished",
              "queued_time": "2025-04-09T22:27:25.9970107Z",
              "session_start_time": null,
              "execution_start_time": "2025-04-09T22:27:25.999608Z",
              "execution_finish_time": "2025-04-09T22:27:28.0768617Z",
              "parent_msg_id": "84bd5daf-1d90-4731-a64e-484ff8bd0c86"
            },
            "text/plain": "StatementMeta(spark4awmfpe, 0, 27, Finished, Available, Finished)"
          },
          "metadata": {}
        },
        {
          "output_type": "execute_result",
          "execution_count": 19,
          "data": {
            "application/vnd.synapse.sparksql-result+json": {
              "schema": {
                "type": "struct",
                "fields": [
                  {
                    "name": "device",
                    "type": "string",
                    "nullable": true,
                    "metadata": {}
                  },
                  {
                    "name": "status",
                    "type": "string",
                    "nullable": true,
                    "metadata": {}
                  }
                ]
              },
              "data": [
                [
                  "Dev1",
                  "ok"
                ],
                [
                  "Dev1",
                  "ok"
                ],
                [
                  "Dev1",
                  "ok"
                ],
                [
                  "Dev2",
                  "error"
                ],
                [
                  "Dev1",
                  "ok"
                ],
                [
                  "Dev1",
                  "error"
                ],
                [
                  "Dev2",
                  "ok"
                ],
                [
                  "Dev2",
                  "error"
                ],
                [
                  "Dev1",
                  "ok"
                ]
              ]
            },
            "text/plain": "<Spark SQL result set with 9 rows and 2 fields>"
          },
          "metadata": {}
        }
      ],
      "execution_count": 19,
      "metadata": {
        "microsoft": {
          "language": "sparksql"
        },
        "collapsed": false
      }
    },
    {
      "cell_type": "code",
      "source": [
        "more_data = '''{\"device\":\"Dev1\",\"status\":\"ok\"}\r\n",
        "{\"device\":\"Dev1\",\"status\":\"ok\"}\r\n",
        "{\"device\":\"Dev1\",\"status\":\"ok\"}\r\n",
        "{\"device\":\"Dev1\",\"status\":\"ok\"}\r\n",
        "{\"device\":\"Dev1\",\"status\":\"error\"}\r\n",
        "{\"device\":\"Dev2\",\"status\":\"error\"}\r\n",
        "{\"device\":\"Dev1\",\"status\":\"ok\"}'''\r\n",
        "\r\n",
        "mssparkutils.fs.put(inputPath + \"more-data.txt\", more_data, True)\r\n"
      ],
      "outputs": [
        {
          "output_type": "display_data",
          "data": {
            "application/vnd.livy.statement-meta+json": {
              "spark_pool": "spark4awmfpe",
              "statement_id": 28,
              "statement_ids": [
                28
              ],
              "state": "finished",
              "livy_statement_state": "available",
              "spark_jobs": null,
              "session_id": "0",
              "normalized_state": "finished",
              "queued_time": "2025-04-09T22:28:13.9550282Z",
              "session_start_time": null,
              "execution_start_time": "2025-04-09T22:28:13.9571969Z",
              "execution_finish_time": "2025-04-09T22:28:14.2586065Z",
              "parent_msg_id": "1e25f5e0-119f-483e-bc3f-40e5b0121181"
            },
            "text/plain": "StatementMeta(spark4awmfpe, 0, 28, Finished, Available, Finished)"
          },
          "metadata": {}
        },
        {
          "output_type": "execute_result",
          "execution_count": 29,
          "data": {
            "text/plain": "True"
          },
          "metadata": {}
        }
      ],
      "execution_count": 20,
      "metadata": {}
    },
    {
      "cell_type": "code",
      "source": [
        "%%sql\r\n",
        "\r\n",
        "SELECT * FROM IotDeviceData;\r\n"
      ],
      "outputs": [
        {
          "output_type": "display_data",
          "data": {
            "application/vnd.livy.statement-meta+json": {
              "spark_pool": "spark4awmfpe",
              "statement_id": 29,
              "statement_ids": [
                29
              ],
              "state": "finished",
              "livy_statement_state": "available",
              "spark_jobs": null,
              "session_id": "0",
              "normalized_state": "finished",
              "queued_time": "2025-04-09T22:28:44.7157025Z",
              "session_start_time": null,
              "execution_start_time": "2025-04-09T22:28:44.7179742Z",
              "execution_finish_time": "2025-04-09T22:28:50.3847886Z",
              "parent_msg_id": "7e5d4726-194d-4d35-a2cb-4e92402817d0"
            },
            "text/plain": "StatementMeta(spark4awmfpe, 0, 29, Finished, Available, Finished)"
          },
          "metadata": {}
        },
        {
          "output_type": "execute_result",
          "execution_count": 21,
          "data": {
            "application/vnd.synapse.sparksql-result+json": {
              "schema": {
                "type": "struct",
                "fields": [
                  {
                    "name": "device",
                    "type": "string",
                    "nullable": true,
                    "metadata": {}
                  },
                  {
                    "name": "status",
                    "type": "string",
                    "nullable": true,
                    "metadata": {}
                  }
                ]
              },
              "data": [
                [
                  "Dev1",
                  "ok"
                ],
                [
                  "Dev1",
                  "ok"
                ],
                [
                  "Dev1",
                  "ok"
                ],
                [
                  "Dev2",
                  "error"
                ],
                [
                  "Dev1",
                  "ok"
                ],
                [
                  "Dev1",
                  "error"
                ],
                [
                  "Dev2",
                  "ok"
                ],
                [
                  "Dev2",
                  "error"
                ],
                [
                  "Dev1",
                  "ok"
                ],
                [
                  "Dev1",
                  "ok"
                ],
                [
                  "Dev1",
                  "ok"
                ],
                [
                  "Dev1",
                  "ok"
                ],
                [
                  "Dev1",
                  "ok"
                ],
                [
                  "Dev1",
                  "error"
                ],
                [
                  "Dev2",
                  "error"
                ],
                [
                  "Dev1",
                  "ok"
                ]
              ]
            },
            "text/plain": "<Spark SQL result set with 16 rows and 2 fields>"
          },
          "metadata": {}
        }
      ],
      "execution_count": 21,
      "metadata": {
        "microsoft": {
          "language": "sparksql"
        },
        "collapsed": false
      }
    },
    {
      "cell_type": "code",
      "source": [
        "deltastream.stop()\r\n"
      ],
      "outputs": [
        {
          "output_type": "display_data",
          "data": {
            "application/vnd.livy.statement-meta+json": {
              "spark_pool": "spark4awmfpe",
              "statement_id": 30,
              "statement_ids": [
                30
              ],
              "state": "finished",
              "livy_statement_state": "available",
              "spark_jobs": null,
              "session_id": "0",
              "normalized_state": "finished",
              "queued_time": "2025-04-09T22:29:37.8015662Z",
              "session_start_time": null,
              "execution_start_time": "2025-04-09T22:29:37.8036814Z",
              "execution_finish_time": "2025-04-09T22:29:38.1236742Z",
              "parent_msg_id": "447cb704-0304-4268-94a5-a9495e18281f"
            },
            "text/plain": "StatementMeta(spark4awmfpe, 0, 30, Finished, Available, Finished)"
          },
          "metadata": {}
        }
      ],
      "execution_count": 22,
      "metadata": {}
    }
  ],
  "metadata": {
    "language_info": {
      "name": "python"
    },
    "kernelspec": {
      "name": "synapse_pyspark",
      "language": "Python",
      "display_name": "Synapse PySpark"
    },
    "kernel_info": {
      "name": "synapse_pyspark"
    },
    "save_output": true,
    "synapse_widget": {
      "version": "0.1",
      "state": {
        "7b6095c7-ef2e-4b9d-aaec-b3c93531a727": {
          "type": "Synapse.DataFrame",
          "sync_state": {
            "table": {
              "rows": [
                {
                  "0": "771",
                  "1": "Mountain-100 Silver, 38",
                  "2": "Mountain Bikes",
                  "3": "3399.9900"
                },
                {
                  "0": "772",
                  "1": "Mountain-100 Silver, 42",
                  "2": "Mountain Bikes",
                  "3": "3399.9900"
                },
                {
                  "0": "773",
                  "1": "Mountain-100 Silver, 44",
                  "2": "Mountain Bikes",
                  "3": "3399.9900"
                },
                {
                  "0": "774",
                  "1": "Mountain-100 Silver, 48",
                  "2": "Mountain Bikes",
                  "3": "3399.9900"
                },
                {
                  "0": "775",
                  "1": "Mountain-100 Black, 38",
                  "2": "Mountain Bikes",
                  "3": "3374.9900"
                },
                {
                  "0": "776",
                  "1": "Mountain-100 Black, 42",
                  "2": "Mountain Bikes",
                  "3": "3374.9900"
                },
                {
                  "0": "777",
                  "1": "Mountain-100 Black, 44",
                  "2": "Mountain Bikes",
                  "3": "3374.9900"
                },
                {
                  "0": "778",
                  "1": "Mountain-100 Black, 48",
                  "2": "Mountain Bikes",
                  "3": "3374.9900"
                },
                {
                  "0": "779",
                  "1": "Mountain-200 Silver, 38",
                  "2": "Mountain Bikes",
                  "3": "2319.9900"
                },
                {
                  "0": "780",
                  "1": "Mountain-200 Silver, 42",
                  "2": "Mountain Bikes",
                  "3": "2319.9900"
                }
              ],
              "schema": [
                {
                  "key": "0",
                  "name": "ProductID",
                  "type": "string"
                },
                {
                  "key": "1",
                  "name": "ProductName",
                  "type": "string"
                },
                {
                  "key": "2",
                  "name": "Category",
                  "type": "string"
                },
                {
                  "key": "3",
                  "name": "ListPrice",
                  "type": "string"
                }
              ],
              "truncated": false
            },
            "isSummary": false,
            "language": "scala",
            "wranglerEntryContext": {
              "dataframeType": "pyspark"
            }
          },
          "persist_state": {
            "view": {
              "type": "details",
              "tableOptions": {},
              "chartOptions": {
                "chartType": "bar",
                "aggregationType": "count",
                "categoryFieldKeys": [
                  "0"
                ],
                "seriesFieldKeys": [
                  "0"
                ],
                "isStacked": false
              }
            }
          }
        },
        "400c4cea-cbb4-4331-bcde-df87ddc76566": {
          "type": "Synapse.DataFrame",
          "sync_state": {
            "table": {
              "rows": [
                {
                  "0": "Dev1",
                  "1": "ok"
                },
                {
                  "0": "Dev1",
                  "1": "ok"
                },
                {
                  "0": "Dev1",
                  "1": "ok"
                },
                {
                  "0": "Dev2",
                  "1": "error"
                },
                {
                  "0": "Dev1",
                  "1": "ok"
                },
                {
                  "0": "Dev1",
                  "1": "error"
                },
                {
                  "0": "Dev2",
                  "1": "ok"
                },
                {
                  "0": "Dev2",
                  "1": "error"
                },
                {
                  "0": "Dev1",
                  "1": "ok"
                }
              ],
              "schema": [
                {
                  "key": "0",
                  "name": "device",
                  "type": "string"
                },
                {
                  "key": "1",
                  "name": "status",
                  "type": "string"
                }
              ],
              "truncated": false
            },
            "isSummary": false,
            "language": "scala",
            "wranglerEntryContext": {
              "candidateVariableNames": [
                "df"
              ],
              "dataframeType": "pyspark"
            }
          },
          "persist_state": {
            "view": {
              "type": "details",
              "tableOptions": {},
              "chartOptions": {
                "chartType": "bar",
                "aggregationType": "count",
                "categoryFieldKeys": [
                  "0"
                ],
                "seriesFieldKeys": [
                  "0"
                ],
                "isStacked": false
              }
            }
          }
        }
      }
    }
  },
  "nbformat": 4,
  "nbformat_minor": 2
}